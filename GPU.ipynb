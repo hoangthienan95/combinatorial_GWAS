{
 "cells": [
  {
   "cell_type": "code",
   "execution_count": 4,
   "id": "grand-assumption",
   "metadata": {
    "execution": {
     "iopub.execute_input": "2021-04-10T22:29:02.526028Z",
     "iopub.status.busy": "2021-04-10T22:29:02.525766Z",
     "iopub.status.idle": "2021-04-10T22:29:02.530621Z",
     "shell.execute_reply": "2021-04-10T22:29:02.529663Z",
     "shell.execute_reply.started": "2021-04-10T22:29:02.525992Z"
    },
    "tags": []
   },
   "outputs": [],
   "source": [
    "from tensorflow.python.client import device_lib\n",
    "import tensorflow as tf"
   ]
  },
  {
   "cell_type": "code",
   "execution_count": 8,
   "id": "162d2b41-8665-4648-88e4-ae3414e6f951",
   "metadata": {
    "execution": {
     "iopub.execute_input": "2021-04-10T22:29:30.814850Z",
     "iopub.status.busy": "2021-04-10T22:29:30.814341Z",
     "iopub.status.idle": "2021-04-10T22:29:30.828389Z",
     "shell.execute_reply": "2021-04-10T22:29:30.827009Z",
     "shell.execute_reply.started": "2021-04-10T22:29:30.814790Z"
    },
    "tags": []
   },
   "outputs": [
    {
     "name": "stdout",
     "output_type": "stream",
     "text": [
      "[name: \"/device:CPU:0\"\n",
      "device_type: \"CPU\"\n",
      "memory_limit: 268435456\n",
      "locality {\n",
      "}\n",
      "incarnation: 11452171884690127984\n",
      ", name: \"/device:XLA_CPU:0\"\n",
      "device_type: \"XLA_CPU\"\n",
      "memory_limit: 17179869184\n",
      "locality {\n",
      "}\n",
      "incarnation: 6212570442512501493\n",
      "physical_device_desc: \"device: XLA_CPU device\"\n",
      ", name: \"/device:GPU:0\"\n",
      "device_type: \"GPU\"\n",
      "memory_limit: 14949928141\n",
      "locality {\n",
      "  bus_id: 1\n",
      "  links {\n",
      "  }\n",
      "}\n",
      "incarnation: 4409251167953151557\n",
      "physical_device_desc: \"device: 0, name: Tesla T4, pci bus id: 0000:11:00.0, compute capability: 7.5\"\n",
      ", name: \"/device:XLA_GPU:0\"\n",
      "device_type: \"XLA_GPU\"\n",
      "memory_limit: 17179869184\n",
      "locality {\n",
      "}\n",
      "incarnation: 9313685056324263883\n",
      "physical_device_desc: \"device: XLA_GPU device\"\n",
      "]\n"
     ]
    }
   ],
   "source": [
    "print(device_lib.list_local_devices())"
   ]
  },
  {
   "cell_type": "code",
   "execution_count": 9,
   "id": "10ba1c56-f356-4858-9a1d-bf1efc443ae8",
   "metadata": {
    "execution": {
     "iopub.execute_input": "2021-04-10T22:29:31.449556Z",
     "iopub.status.busy": "2021-04-10T22:29:31.449100Z",
     "iopub.status.idle": "2021-04-10T22:29:31.456770Z",
     "shell.execute_reply": "2021-04-10T22:29:31.455198Z",
     "shell.execute_reply.started": "2021-04-10T22:29:31.449500Z"
    },
    "tags": []
   },
   "outputs": [
    {
     "name": "stdout",
     "output_type": "stream",
     "text": [
      "Device found : [PhysicalDevice(name='/physical_device:GPU:0', device_type='GPU')]\n"
     ]
    }
   ],
   "source": [
    "physical_device = tf.config.experimental.list_physical_devices('GPU')\n",
    "print(f'Device found : {physical_device}')\n"
   ]
  },
  {
   "cell_type": "code",
   "execution_count": 10,
   "id": "ff1cd402-b868-4f64-80b2-79e699effd0d",
   "metadata": {
    "execution": {
     "iopub.execute_input": "2021-04-10T22:29:32.277559Z",
     "iopub.status.busy": "2021-04-10T22:29:32.277106Z",
     "iopub.status.idle": "2021-04-10T22:29:32.283599Z",
     "shell.execute_reply": "2021-04-10T22:29:32.282041Z",
     "shell.execute_reply.started": "2021-04-10T22:29:32.277503Z"
    },
    "tags": []
   },
   "outputs": [],
   "source": [
    "tf.config.experimental.get_memory_growth(physical_device[0])"
   ]
  }
 ],
 "metadata": {
  "kernelspec": {
   "display_name": "Python 3",
   "language": "python",
   "name": "python3"
  },
  "language_info": {
   "codemirror_mode": {
    "name": "ipython",
    "version": 3
   },
   "file_extension": ".py",
   "mimetype": "text/x-python",
   "name": "python",
   "nbconvert_exporter": "python",
   "pygments_lexer": "ipython3",
   "version": "3.7.10"
  }
 },
 "nbformat": 4,
 "nbformat_minor": 5
}
