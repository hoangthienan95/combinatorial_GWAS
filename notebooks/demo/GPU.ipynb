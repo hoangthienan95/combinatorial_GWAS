{
 "cells": [
  {
   "cell_type": "code",
   "execution_count": null,
   "id": "2746c32c-212d-4da2-8064-0bc099568770",
   "metadata": {},
   "outputs": [],
   "source": [
    "import combinatorial_gwas"
   ]
  },
  {
   "cell_type": "code",
   "execution_count": null,
   "id": "grand-assumption",
   "metadata": {},
   "outputs": [
    {
     "name": "stdout",
     "output_type": "stream",
     "text": [
      "2.4.1\n"
     ]
    }
   ],
   "source": [
    "#https://stackoverflow.com/questions/65273118/why-is-tensorflow-not-recognizing-my-gpu-after-conda-install\n",
    "from tensorflow.python.client import device_lib\n",
    "import tensorflow as tf\n",
    "print(tf.__version__)"
   ]
  },
  {
   "cell_type": "code",
   "execution_count": null,
   "id": "162d2b41-8665-4648-88e4-ae3414e6f951",
   "metadata": {},
   "outputs": [
    {
     "name": "stdout",
     "output_type": "stream",
     "text": [
      "[name: \"/device:CPU:0\"\n",
      "device_type: \"CPU\"\n",
      "memory_limit: 268435456\n",
      "locality {\n",
      "}\n",
      "incarnation: 4453949129351035473\n",
      ", name: \"/device:GPU:0\"\n",
      "device_type: \"GPU\"\n",
      "memory_limit: 14648653952\n",
      "locality {\n",
      "  bus_id: 1\n",
      "  links {\n",
      "  }\n",
      "}\n",
      "incarnation: 10332664044822696548\n",
      "physical_device_desc: \"device: 0, name: Tesla T4, pci bus id: 0000:11:00.0, compute capability: 7.5\"\n",
      "]\n"
     ]
    }
   ],
   "source": [
    "print(device_lib.list_local_devices())"
   ]
  },
  {
   "cell_type": "code",
   "execution_count": null,
   "id": "10ba1c56-f356-4858-9a1d-bf1efc443ae8",
   "metadata": {},
   "outputs": [
    {
     "name": "stdout",
     "output_type": "stream",
     "text": [
      "Device found : [PhysicalDevice(name='/physical_device:GPU:0', device_type='GPU')]\n"
     ]
    }
   ],
   "source": [
    "physical_device = tf.config.experimental.list_physical_devices('GPU')\n",
    "print(f'Device found : {physical_device}')\n"
   ]
  },
  {
   "cell_type": "code",
   "execution_count": null,
   "id": "ff1cd402-b868-4f64-80b2-79e699effd0d",
   "metadata": {},
   "outputs": [],
   "source": [
    "tf.config.experimental.get_memory_growth(physical_device[0])"
   ]
  }
 ],
 "metadata": {
  "kernelspec": {
   "display_name": "Python 3",
   "language": "python",
   "name": "python3"
  }
 },
 "nbformat": 4,
 "nbformat_minor": 5
}
