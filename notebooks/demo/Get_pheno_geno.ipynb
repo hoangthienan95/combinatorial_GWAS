{
 "cells": [
  {
   "cell_type": "code",
   "execution_count": null,
   "id": "390cad97-70f8-4f36-94b6-62917a72eda4",
   "metadata": {},
   "outputs": [
    {
     "name": "stderr",
     "output_type": "stream",
     "text": [
      "WARNING:root:Loading ICD phenotype matrix, this might take a while\n",
      "WARNING:root:Finished loading ICD10 matrix\n"
     ]
    }
   ],
   "source": [
    "from combinatorial_gwas.genotype import load_genetic_file\n",
    "from combinatorial_gwas.data_catalog import get_catalog, get_config, get_parameters\n",
    "from combinatorial_gwas.phenotypes import get_phenotype, get_GWAS_snps_for_trait\n",
    "import numpy as np"
   ]
  },
  {
   "cell_type": "markdown",
   "id": "b1b9f707-85bd-46a4-87a9-caaa5947ca77",
   "metadata": {},
   "source": [
    "# Demoing how to get phenotype and genotype data"
   ]
  },
  {
   "cell_type": "code",
   "execution_count": null,
   "id": "72a90e03-a0e3-4279-a2ff-93fe4c4adf99",
   "metadata": {},
   "outputs": [
    {
     "name": "stdout",
     "output_type": "stream",
     "text": [
      "Sample IDs are read from /lab/corradin_biobank/Raw_UKB_downloads/sample_files/ukb45624_imp_chr21_v3_s487275.sample.\n"
     ]
    },
    {
     "name": "stderr",
     "output_type": "stream",
     "text": [
      "Mapping genotypes: 100%|██████████| 1261158/1261158 [00:55<00:00, 22745.71it/s]\n"
     ]
    }
   ],
   "source": [
    "genetic_file = load_genetic_file(21)\n"
   ]
  },
  {
   "cell_type": "markdown",
   "id": "efe3451b-eed5-410c-9816-9c0a5a79175b",
   "metadata": {},
   "source": [
    "### Getting multiple ICD codes"
   ]
  },
  {
   "cell_type": "code",
   "execution_count": null,
   "id": "ff81119b-77ee-469a-9d4a-1b64e510d062",
   "metadata": {},
   "outputs": [
    {
     "data": {
      "text/html": [
       "<div>\n",
       "<style scoped>\n",
       "    .dataframe tbody tr th:only-of-type {\n",
       "        vertical-align: middle;\n",
       "    }\n",
       "\n",
       "    .dataframe tbody tr th {\n",
       "        vertical-align: top;\n",
       "    }\n",
       "\n",
       "    .dataframe thead th {\n",
       "        text-align: right;\n",
       "    }\n",
       "</style>\n",
       "<table border=\"1\" class=\"dataframe\">\n",
       "  <thead>\n",
       "    <tr style=\"text-align: right;\">\n",
       "      <th></th>\n",
       "      <th>I84</th>\n",
       "      <th>R07</th>\n",
       "    </tr>\n",
       "    <tr>\n",
       "      <th>f.eid</th>\n",
       "      <th></th>\n",
       "      <th></th>\n",
       "    </tr>\n",
       "  </thead>\n",
       "  <tbody>\n",
       "    <tr>\n",
       "      <th>1000025</th>\n",
       "      <td>0</td>\n",
       "      <td>0</td>\n",
       "    </tr>\n",
       "    <tr>\n",
       "      <th>1000038</th>\n",
       "      <td>0</td>\n",
       "      <td>0</td>\n",
       "    </tr>\n",
       "    <tr>\n",
       "      <th>1000042</th>\n",
       "      <td>0</td>\n",
       "      <td>0</td>\n",
       "    </tr>\n",
       "    <tr>\n",
       "      <th>1000056</th>\n",
       "      <td>0</td>\n",
       "      <td>0</td>\n",
       "    </tr>\n",
       "    <tr>\n",
       "      <th>1000061</th>\n",
       "      <td>0</td>\n",
       "      <td>0</td>\n",
       "    </tr>\n",
       "    <tr>\n",
       "      <th>...</th>\n",
       "      <td>...</td>\n",
       "      <td>...</td>\n",
       "    </tr>\n",
       "    <tr>\n",
       "      <th>5873158</th>\n",
       "      <td>0</td>\n",
       "      <td>0</td>\n",
       "    </tr>\n",
       "    <tr>\n",
       "      <th>5873167</th>\n",
       "      <td>0</td>\n",
       "      <td>0</td>\n",
       "    </tr>\n",
       "    <tr>\n",
       "      <th>5873175</th>\n",
       "      <td>0</td>\n",
       "      <td>0</td>\n",
       "    </tr>\n",
       "    <tr>\n",
       "      <th>5873180</th>\n",
       "      <td>0</td>\n",
       "      <td>0</td>\n",
       "    </tr>\n",
       "    <tr>\n",
       "      <th>5873199</th>\n",
       "      <td>0</td>\n",
       "      <td>0</td>\n",
       "    </tr>\n",
       "  </tbody>\n",
       "</table>\n",
       "<p>357682 rows × 2 columns</p>\n",
       "</div>"
      ],
      "text/plain": [
       "         I84  R07\n",
       "f.eid            \n",
       "1000025    0    0\n",
       "1000038    0    0\n",
       "1000042    0    0\n",
       "1000056    0    0\n",
       "1000061    0    0\n",
       "...      ...  ...\n",
       "5873158    0    0\n",
       "5873167    0    0\n",
       "5873175    0    0\n",
       "5873180    0    0\n",
       "5873199    0    0\n",
       "\n",
       "[357682 rows x 2 columns]"
      ]
     },
     "execution_count": null,
     "metadata": {},
     "output_type": "execute_result"
    }
   ],
   "source": [
    "get_phenotype([\"I84\", \"R07\"])[1]"
   ]
  },
  {
   "cell_type": "markdown",
   "id": "95b53908-0c31-4a20-b46e-2becf06c7ea8",
   "metadata": {},
   "source": [
    "### Getting multiple ICD codes arranged by samples in the genetic file\n",
    "\n",
    "Helpful when you want to subset samples and want to ensure the phenotype df follows the exact same order as the genotype"
   ]
  },
  {
   "cell_type": "code",
   "execution_count": null,
   "id": "594d8820-b05d-4907-9fcd-14b524f2fc70",
   "metadata": {},
   "outputs": [
    {
     "data": {
      "text/plain": [
       "array(['5542886', '5137974', '3758348', ..., '2956972', '5229561',\n",
       "       '3665101'], dtype=object)"
      ]
     },
     "execution_count": null,
     "metadata": {},
     "output_type": "execute_result"
    }
   ],
   "source": [
    "genetic_file.samples.values"
   ]
  },
  {
   "cell_type": "code",
   "execution_count": null,
   "id": "5bf297d1-84de-4664-bd45-c1149ed08440",
   "metadata": {},
   "outputs": [
    {
     "data": {
      "text/html": [
       "<div>\n",
       "<style scoped>\n",
       "    .dataframe tbody tr th:only-of-type {\n",
       "        vertical-align: middle;\n",
       "    }\n",
       "\n",
       "    .dataframe tbody tr th {\n",
       "        vertical-align: top;\n",
       "    }\n",
       "\n",
       "    .dataframe thead th {\n",
       "        text-align: right;\n",
       "    }\n",
       "</style>\n",
       "<table border=\"1\" class=\"dataframe\">\n",
       "  <thead>\n",
       "    <tr style=\"text-align: right;\">\n",
       "      <th></th>\n",
       "      <th>I84</th>\n",
       "      <th>R07</th>\n",
       "    </tr>\n",
       "    <tr>\n",
       "      <th>f.eid</th>\n",
       "      <th></th>\n",
       "      <th></th>\n",
       "    </tr>\n",
       "  </thead>\n",
       "  <tbody>\n",
       "    <tr>\n",
       "      <th>5542886</th>\n",
       "      <td>0</td>\n",
       "      <td>0</td>\n",
       "    </tr>\n",
       "    <tr>\n",
       "      <th>5137974</th>\n",
       "      <td>0</td>\n",
       "      <td>0</td>\n",
       "    </tr>\n",
       "    <tr>\n",
       "      <th>3758348</th>\n",
       "      <td>0</td>\n",
       "      <td>0</td>\n",
       "    </tr>\n",
       "    <tr>\n",
       "      <th>1391800</th>\n",
       "      <td>0</td>\n",
       "      <td>0</td>\n",
       "    </tr>\n",
       "    <tr>\n",
       "      <th>3165331</th>\n",
       "      <td>0</td>\n",
       "      <td>0</td>\n",
       "    </tr>\n",
       "    <tr>\n",
       "      <th>...</th>\n",
       "      <td>...</td>\n",
       "      <td>...</td>\n",
       "    </tr>\n",
       "    <tr>\n",
       "      <th>3783812</th>\n",
       "      <td>0</td>\n",
       "      <td>0</td>\n",
       "    </tr>\n",
       "    <tr>\n",
       "      <th>2440570</th>\n",
       "      <td>0</td>\n",
       "      <td>0</td>\n",
       "    </tr>\n",
       "    <tr>\n",
       "      <th>1213317</th>\n",
       "      <td>0</td>\n",
       "      <td>0</td>\n",
       "    </tr>\n",
       "    <tr>\n",
       "      <th>1354423</th>\n",
       "      <td>0</td>\n",
       "      <td>1</td>\n",
       "    </tr>\n",
       "    <tr>\n",
       "      <th>4271450</th>\n",
       "      <td>0</td>\n",
       "      <td>0</td>\n",
       "    </tr>\n",
       "  </tbody>\n",
       "</table>\n",
       "<p>357643 rows × 2 columns</p>\n",
       "</div>"
      ],
      "text/plain": [
       "         I84  R07\n",
       "f.eid            \n",
       "5542886    0    0\n",
       "5137974    0    0\n",
       "3758348    0    0\n",
       "1391800    0    0\n",
       "3165331    0    0\n",
       "...      ...  ...\n",
       "3783812    0    0\n",
       "2440570    0    0\n",
       "1213317    0    0\n",
       "1354423    0    1\n",
       "4271450    0    0\n",
       "\n",
       "[357643 rows x 2 columns]"
      ]
     },
     "execution_count": null,
     "metadata": {},
     "output_type": "execute_result"
    }
   ],
   "source": [
    "sample_index, pheno_df_ordered = get_phenotype([\"I84\", \"R07\"], samples = genetic_file.samples)\n",
    "pheno_df_ordered"
   ]
  },
  {
   "cell_type": "code",
   "execution_count": null,
   "id": "7ed72dbf-7e96-4c08-ad5f-c9ca757b67db",
   "metadata": {},
   "outputs": [],
   "source": [
    "assert sample_index.shape[0] == pheno_df_ordered.shape[0]"
   ]
  },
  {
   "cell_type": "markdown",
   "id": "f00323ba-c44a-4f49-a8d8-29c45e2bad7c",
   "metadata": {},
   "source": [
    "---"
   ]
  },
  {
   "cell_type": "markdown",
   "id": "ea2c4c82-40af-4a64-adb6-0ade28a5e4a3",
   "metadata": {},
   "source": [
    "### Get SNPs for a phenotype"
   ]
  },
  {
   "cell_type": "markdown",
   "id": "c67af442-9fc9-4053-ab1a-ef2075aa3c41",
   "metadata": {},
   "source": [
    "Get the SNPs that were used for a GWAS of the ICD10 code. You can output the entire dataframe or just the array. To find what `phenotype_code` to provide as function argument, refer to the column of the same name [here](https://docs.google.com/spreadsheets/d/1kvPoupSzsSFBNSztMzl04xMoSC3Kcx3CrjVf4yBmESU/edit?ts=5b5f17db#gid=178908679). For ICD codes phenotype, the values are the same, but this might not be true for your phenotype of interest"
   ]
  },
  {
   "cell_type": "code",
   "execution_count": null,
   "id": "45c37c8a-b70e-4ec5-ae52-c900688de164",
   "metadata": {},
   "outputs": [
    {
     "data": {
      "text/plain": [
       "array(['21:23683958_G_A', '21:44501642_C_T', '21:25570916_T_C', ...,\n",
       "       '21:46876064_G_C', '21:47773893_C_G', '21:47831648_C_T'],\n",
       "      dtype=object)"
      ]
     },
     "execution_count": null,
     "metadata": {},
     "output_type": "execute_result"
    }
   ],
   "source": [
    "get_GWAS_snps_for_trait(\"I84\")\n"
   ]
  },
  {
   "cell_type": "markdown",
   "id": "0fa9034d-3be3-41e7-a4c6-e9dd2179c21d",
   "metadata": {},
   "source": [
    "The SNPs are sorted by pvalue by default. This is so that you can select **the lowest pvalue SNPs** or **the highest beta SNPs** but you can sort them by position by changing the `sort_val_cols_list` argument. "
   ]
  },
  {
   "cell_type": "code",
   "execution_count": null,
   "id": "7dc80422-1f9f-4b0f-a3df-3567b4aeac1c",
   "metadata": {},
   "outputs": [
    {
     "data": {
      "text/html": [
       "<div>\n",
       "<style scoped>\n",
       "    .dataframe tbody tr th:only-of-type {\n",
       "        vertical-align: middle;\n",
       "    }\n",
       "\n",
       "    .dataframe tbody tr th {\n",
       "        vertical-align: top;\n",
       "    }\n",
       "\n",
       "    .dataframe thead th {\n",
       "        text-align: right;\n",
       "    }\n",
       "</style>\n",
       "<table border=\"1\" class=\"dataframe\">\n",
       "  <thead>\n",
       "    <tr style=\"text-align: right;\">\n",
       "      <th></th>\n",
       "      <th>position_rank</th>\n",
       "      <th>variant</th>\n",
       "      <th>minor_allele</th>\n",
       "      <th>minor_AF</th>\n",
       "      <th>expected_case_minor_AC</th>\n",
       "      <th>low_confidence_variant</th>\n",
       "      <th>n_complete_samples</th>\n",
       "      <th>AC</th>\n",
       "      <th>ytx</th>\n",
       "      <th>beta</th>\n",
       "      <th>se</th>\n",
       "      <th>tstat</th>\n",
       "      <th>pval</th>\n",
       "      <th>chr</th>\n",
       "      <th>position</th>\n",
       "      <th>major_allele</th>\n",
       "      <th>full_id</th>\n",
       "    </tr>\n",
       "  </thead>\n",
       "  <tbody>\n",
       "    <tr>\n",
       "      <th>170594</th>\n",
       "      <td>170594</td>\n",
       "      <td>21:46875774:C:T</td>\n",
       "      <td>T</td>\n",
       "      <td>0.000007</td>\n",
       "      <td>0.172184</td>\n",
       "      <td>True</td>\n",
       "      <td>361194</td>\n",
       "      <td>4.90588</td>\n",
       "      <td>2.117650</td>\n",
       "      <td>0.667492</td>\n",
       "      <td>0.107762</td>\n",
       "      <td>6.19411</td>\n",
       "      <td>5.867920e-10</td>\n",
       "      <td>21</td>\n",
       "      <td>46875774</td>\n",
       "      <td>C</td>\n",
       "      <td>21:46875774_C_T</td>\n",
       "    </tr>\n",
       "    <tr>\n",
       "      <th>84094</th>\n",
       "      <td>84094</td>\n",
       "      <td>21:30968890:C:T</td>\n",
       "      <td>T</td>\n",
       "      <td>0.000002</td>\n",
       "      <td>0.043356</td>\n",
       "      <td>True</td>\n",
       "      <td>361194</td>\n",
       "      <td>1.23529</td>\n",
       "      <td>1.000000</td>\n",
       "      <td>0.994117</td>\n",
       "      <td>0.186704</td>\n",
       "      <td>5.32456</td>\n",
       "      <td>1.012560e-07</td>\n",
       "      <td>21</td>\n",
       "      <td>30968890</td>\n",
       "      <td>C</td>\n",
       "      <td>21:30968890_C_T</td>\n",
       "    </tr>\n",
       "    <tr>\n",
       "      <th>151278</th>\n",
       "      <td>151278</td>\n",
       "      <td>21:43767602:A:G</td>\n",
       "      <td>G</td>\n",
       "      <td>0.000002</td>\n",
       "      <td>0.053403</td>\n",
       "      <td>True</td>\n",
       "      <td>361194</td>\n",
       "      <td>1.52157</td>\n",
       "      <td>0.831373</td>\n",
       "      <td>1.189730</td>\n",
       "      <td>0.226778</td>\n",
       "      <td>5.24623</td>\n",
       "      <td>1.553320e-07</td>\n",
       "      <td>21</td>\n",
       "      <td>43767602</td>\n",
       "      <td>A</td>\n",
       "      <td>21:43767602_A_G</td>\n",
       "    </tr>\n",
       "    <tr>\n",
       "      <th>88826</th>\n",
       "      <td>88826</td>\n",
       "      <td>21:31869421:T:G</td>\n",
       "      <td>G</td>\n",
       "      <td>0.000002</td>\n",
       "      <td>0.041291</td>\n",
       "      <td>True</td>\n",
       "      <td>361194</td>\n",
       "      <td>1.17647</td>\n",
       "      <td>0.952941</td>\n",
       "      <td>0.990411</td>\n",
       "      <td>0.192736</td>\n",
       "      <td>5.13868</td>\n",
       "      <td>2.768140e-07</td>\n",
       "      <td>21</td>\n",
       "      <td>31869421</td>\n",
       "      <td>T</td>\n",
       "      <td>21:31869421_T_G</td>\n",
       "    </tr>\n",
       "    <tr>\n",
       "      <th>162176</th>\n",
       "      <td>162176</td>\n",
       "      <td>21:45587940:C:T</td>\n",
       "      <td>T</td>\n",
       "      <td>0.000003</td>\n",
       "      <td>0.068543</td>\n",
       "      <td>True</td>\n",
       "      <td>361194</td>\n",
       "      <td>1.95294</td>\n",
       "      <td>0.933333</td>\n",
       "      <td>0.871227</td>\n",
       "      <td>0.184111</td>\n",
       "      <td>4.73207</td>\n",
       "      <td>2.223280e-06</td>\n",
       "      <td>21</td>\n",
       "      <td>45587940</td>\n",
       "      <td>C</td>\n",
       "      <td>21:45587940_C_T</td>\n",
       "    </tr>\n",
       "    <tr>\n",
       "      <th>...</th>\n",
       "      <td>...</td>\n",
       "      <td>...</td>\n",
       "      <td>...</td>\n",
       "      <td>...</td>\n",
       "      <td>...</td>\n",
       "      <td>...</td>\n",
       "      <td>...</td>\n",
       "      <td>...</td>\n",
       "      <td>...</td>\n",
       "      <td>...</td>\n",
       "      <td>...</td>\n",
       "      <td>...</td>\n",
       "      <td>...</td>\n",
       "      <td>...</td>\n",
       "      <td>...</td>\n",
       "      <td>...</td>\n",
       "      <td>...</td>\n",
       "    </tr>\n",
       "    <tr>\n",
       "      <th>161896</th>\n",
       "      <td>161896</td>\n",
       "      <td>21:45545974:C:T</td>\n",
       "      <td>T</td>\n",
       "      <td>0.000000</td>\n",
       "      <td>0.000000</td>\n",
       "      <td>True</td>\n",
       "      <td>361194</td>\n",
       "      <td>0.00000</td>\n",
       "      <td>0.000000</td>\n",
       "      <td>NaN</td>\n",
       "      <td>NaN</td>\n",
       "      <td>NaN</td>\n",
       "      <td>NaN</td>\n",
       "      <td>21</td>\n",
       "      <td>45545974</td>\n",
       "      <td>C</td>\n",
       "      <td>21:45545974_C_T</td>\n",
       "    </tr>\n",
       "    <tr>\n",
       "      <th>165184</th>\n",
       "      <td>165184</td>\n",
       "      <td>21:46067181:G:C</td>\n",
       "      <td>C</td>\n",
       "      <td>0.000000</td>\n",
       "      <td>0.000000</td>\n",
       "      <td>True</td>\n",
       "      <td>361194</td>\n",
       "      <td>0.00000</td>\n",
       "      <td>0.000000</td>\n",
       "      <td>NaN</td>\n",
       "      <td>NaN</td>\n",
       "      <td>NaN</td>\n",
       "      <td>NaN</td>\n",
       "      <td>21</td>\n",
       "      <td>46067181</td>\n",
       "      <td>G</td>\n",
       "      <td>21:46067181_G_C</td>\n",
       "    </tr>\n",
       "    <tr>\n",
       "      <th>170601</th>\n",
       "      <td>170601</td>\n",
       "      <td>21:46876064:G:C</td>\n",
       "      <td>C</td>\n",
       "      <td>0.000000</td>\n",
       "      <td>0.000000</td>\n",
       "      <td>True</td>\n",
       "      <td>361194</td>\n",
       "      <td>0.00000</td>\n",
       "      <td>0.000000</td>\n",
       "      <td>NaN</td>\n",
       "      <td>NaN</td>\n",
       "      <td>NaN</td>\n",
       "      <td>NaN</td>\n",
       "      <td>21</td>\n",
       "      <td>46876064</td>\n",
       "      <td>G</td>\n",
       "      <td>21:46876064_G_C</td>\n",
       "    </tr>\n",
       "    <tr>\n",
       "      <th>176072</th>\n",
       "      <td>176072</td>\n",
       "      <td>21:47773893:C:G</td>\n",
       "      <td>G</td>\n",
       "      <td>0.000000</td>\n",
       "      <td>0.000000</td>\n",
       "      <td>True</td>\n",
       "      <td>361194</td>\n",
       "      <td>0.00000</td>\n",
       "      <td>0.000000</td>\n",
       "      <td>NaN</td>\n",
       "      <td>NaN</td>\n",
       "      <td>NaN</td>\n",
       "      <td>NaN</td>\n",
       "      <td>21</td>\n",
       "      <td>47773893</td>\n",
       "      <td>C</td>\n",
       "      <td>21:47773893_C_G</td>\n",
       "    </tr>\n",
       "    <tr>\n",
       "      <th>176489</th>\n",
       "      <td>176489</td>\n",
       "      <td>21:47831648:C:T</td>\n",
       "      <td>T</td>\n",
       "      <td>0.000000</td>\n",
       "      <td>0.000000</td>\n",
       "      <td>True</td>\n",
       "      <td>361194</td>\n",
       "      <td>0.00000</td>\n",
       "      <td>0.000000</td>\n",
       "      <td>NaN</td>\n",
       "      <td>NaN</td>\n",
       "      <td>NaN</td>\n",
       "      <td>NaN</td>\n",
       "      <td>21</td>\n",
       "      <td>47831648</td>\n",
       "      <td>C</td>\n",
       "      <td>21:47831648_C_T</td>\n",
       "    </tr>\n",
       "  </tbody>\n",
       "</table>\n",
       "<p>178155 rows × 17 columns</p>\n",
       "</div>"
      ],
      "text/plain": [
       "        position_rank          variant minor_allele  minor_AF  \\\n",
       "170594         170594  21:46875774:C:T            T  0.000007   \n",
       "84094           84094  21:30968890:C:T            T  0.000002   \n",
       "151278         151278  21:43767602:A:G            G  0.000002   \n",
       "88826           88826  21:31869421:T:G            G  0.000002   \n",
       "162176         162176  21:45587940:C:T            T  0.000003   \n",
       "...               ...              ...          ...       ...   \n",
       "161896         161896  21:45545974:C:T            T  0.000000   \n",
       "165184         165184  21:46067181:G:C            C  0.000000   \n",
       "170601         170601  21:46876064:G:C            C  0.000000   \n",
       "176072         176072  21:47773893:C:G            G  0.000000   \n",
       "176489         176489  21:47831648:C:T            T  0.000000   \n",
       "\n",
       "        expected_case_minor_AC  low_confidence_variant  n_complete_samples  \\\n",
       "170594                0.172184                    True              361194   \n",
       "84094                 0.043356                    True              361194   \n",
       "151278                0.053403                    True              361194   \n",
       "88826                 0.041291                    True              361194   \n",
       "162176                0.068543                    True              361194   \n",
       "...                        ...                     ...                 ...   \n",
       "161896                0.000000                    True              361194   \n",
       "165184                0.000000                    True              361194   \n",
       "170601                0.000000                    True              361194   \n",
       "176072                0.000000                    True              361194   \n",
       "176489                0.000000                    True              361194   \n",
       "\n",
       "             AC       ytx      beta        se    tstat          pval chr  \\\n",
       "170594  4.90588  2.117650  0.667492  0.107762  6.19411  5.867920e-10  21   \n",
       "84094   1.23529  1.000000  0.994117  0.186704  5.32456  1.012560e-07  21   \n",
       "151278  1.52157  0.831373  1.189730  0.226778  5.24623  1.553320e-07  21   \n",
       "88826   1.17647  0.952941  0.990411  0.192736  5.13868  2.768140e-07  21   \n",
       "162176  1.95294  0.933333  0.871227  0.184111  4.73207  2.223280e-06  21   \n",
       "...         ...       ...       ...       ...      ...           ...  ..   \n",
       "161896  0.00000  0.000000       NaN       NaN      NaN           NaN  21   \n",
       "165184  0.00000  0.000000       NaN       NaN      NaN           NaN  21   \n",
       "170601  0.00000  0.000000       NaN       NaN      NaN           NaN  21   \n",
       "176072  0.00000  0.000000       NaN       NaN      NaN           NaN  21   \n",
       "176489  0.00000  0.000000       NaN       NaN      NaN           NaN  21   \n",
       "\n",
       "        position major_allele          full_id  \n",
       "170594  46875774            C  21:46875774_C_T  \n",
       "84094   30968890            C  21:30968890_C_T  \n",
       "151278  43767602            A  21:43767602_A_G  \n",
       "88826   31869421            T  21:31869421_T_G  \n",
       "162176  45587940            C  21:45587940_C_T  \n",
       "...          ...          ...              ...  \n",
       "161896  45545974            C  21:45545974_C_T  \n",
       "165184  46067181            G  21:46067181_G_C  \n",
       "170601  46876064            G  21:46876064_G_C  \n",
       "176072  47773893            C  21:47773893_C_G  \n",
       "176489  47831648            C  21:47831648_C_T  \n",
       "\n",
       "[178155 rows x 17 columns]"
      ]
     },
     "execution_count": null,
     "metadata": {},
     "output_type": "execute_result"
    }
   ],
   "source": [
    "GWAS_snps_df = get_GWAS_snps_for_trait(\"I84\", id_only=False, sort_val_cols_list= ['pval'], ascending_bool_list= [True])\n",
    "GWAS_snps_df"
   ]
  },
  {
   "cell_type": "markdown",
   "id": "116f5ebc-91b3-4160-bd31-9cf6a47805a7",
   "metadata": {},
   "source": [
    "Here we demonstrate these steps: \n",
    "\n",
    "1) keep the sort by `pval` or beta\n",
    "2) return the dataframe \n",
    "3) subset the number of SNPs you want (SNPs that have pvalue < 1e-5)\n",
    "4) and then sort again by position (to put into a CNN for example)"
   ]
  },
  {
   "cell_type": "code",
   "execution_count": null,
   "id": "cb9c229e-905c-418e-9b1f-eaafb619584a",
   "metadata": {},
   "outputs": [
    {
     "data": {
      "text/plain": [
       "array(['21:30411367_T_G', '21:30968890_C_T', '21:31812778_T_A',\n",
       "       '21:31869421_T_G', '21:34889665_T_C', '21:43767602_A_G',\n",
       "       '21:45587940_C_T', '21:46875774_C_T', '21:47269877_C_T',\n",
       "       '21:47419606_C_T'], dtype=object)"
      ]
     },
     "execution_count": null,
     "metadata": {},
     "output_type": "execute_result"
    }
   ],
   "source": [
    "subset_snps = GWAS_snps_df.query(\"pval < 1e-5\").sort_values(\"position\")[\"full_id\"].values\n",
    "subset_snps"
   ]
  },
  {
   "cell_type": "code",
   "execution_count": null,
   "id": "fdbaf50e-0907-4855-8e91-e09bef7c15ce",
   "metadata": {},
   "outputs": [
    {
     "data": {
      "text/plain": [
       "(10,)"
      ]
     },
     "execution_count": null,
     "metadata": {},
     "output_type": "execute_result"
    }
   ],
   "source": [
    "subset_snps.shape"
   ]
  },
  {
   "cell_type": "markdown",
   "id": "e46a399d-d06e-426b-8b7c-4a484d1f69cd",
   "metadata": {},
   "source": [
    "#### Now we get the index of the chosen snps"
   ]
  },
  {
   "cell_type": "code",
   "execution_count": null,
   "id": "48a05b76-7d5e-4a26-8d78-d2eb0ca14aef",
   "metadata": {},
   "outputs": [
    {
     "data": {
      "text/plain": [
       "array([ 612848,  630868,  662162,  664130,  766757, 1084605, 1154997,\n",
       "       1211179, 1226583, 1232900])"
      ]
     },
     "execution_count": null,
     "metadata": {},
     "output_type": "execute_result"
    }
   ],
   "source": [
    "sorter = np.argsort(genetic_file.bgen_reader_obj.ids)\n",
    "variants_index = sorter[np.searchsorted(genetic_file.bgen_reader_obj.ids, subset_snps, sorter=sorter)]\n",
    "variants_index"
   ]
  },
  {
   "cell_type": "code",
   "execution_count": null,
   "id": "d8dc912c-633d-4950-93b5-2d2cf5393a57",
   "metadata": {},
   "outputs": [
    {
     "name": "stdout",
     "output_type": "stream",
     "text": [
      "reading -- time=0:00:00.00, thread 1 of 10, part 1 of 1\n"
     ]
    },
    {
     "data": {
      "text/plain": [
       "(357643, 10, 3)"
      ]
     },
     "execution_count": null,
     "metadata": {},
     "output_type": "execute_result"
    }
   ],
   "source": [
    "#get genetic data of all the chosen SNPs and all samples in phenotype\n",
    "\n",
    "probs = genetic_file.bgen_reader_obj.read((sample_index, variants_index))\n",
    "probs.shape\n"
   ]
  },
  {
   "cell_type": "markdown",
   "id": "c5968499-670a-4713-b133-e1910a7f1a61",
   "metadata": {},
   "source": [
    "#### Turn the probabilities to one hot encoded values"
   ]
  },
  {
   "cell_type": "code",
   "execution_count": null,
   "id": "512b4204-842a-4b37-8460-8977f968163b",
   "metadata": {},
   "outputs": [
    {
     "data": {
      "text/plain": [
       "array([[[1., 0., 0.],\n",
       "        [1., 0., 0.],\n",
       "        [1., 0., 0.],\n",
       "        ...,\n",
       "        [1., 0., 0.],\n",
       "        [1., 0., 0.],\n",
       "        [1., 0., 0.]],\n",
       "\n",
       "       [[1., 0., 0.],\n",
       "        [1., 0., 0.],\n",
       "        [1., 0., 0.],\n",
       "        ...,\n",
       "        [1., 0., 0.],\n",
       "        [1., 0., 0.],\n",
       "        [1., 0., 0.]],\n",
       "\n",
       "       [[1., 0., 0.],\n",
       "        [1., 0., 0.],\n",
       "        [1., 0., 0.],\n",
       "        ...,\n",
       "        [1., 0., 0.],\n",
       "        [1., 0., 0.],\n",
       "        [1., 0., 0.]],\n",
       "\n",
       "       ...,\n",
       "\n",
       "       [[1., 0., 0.],\n",
       "        [1., 0., 0.],\n",
       "        [1., 0., 0.],\n",
       "        ...,\n",
       "        [1., 0., 0.],\n",
       "        [1., 0., 0.],\n",
       "        [1., 0., 0.]],\n",
       "\n",
       "       [[1., 0., 0.],\n",
       "        [1., 0., 0.],\n",
       "        [1., 0., 0.],\n",
       "        ...,\n",
       "        [1., 0., 0.],\n",
       "        [1., 0., 0.],\n",
       "        [1., 0., 0.]],\n",
       "\n",
       "       [[1., 0., 0.],\n",
       "        [1., 0., 0.],\n",
       "        [1., 0., 0.],\n",
       "        ...,\n",
       "        [1., 0., 0.],\n",
       "        [1., 0., 0.],\n",
       "        [1., 0., 0.]]])"
      ]
     },
     "execution_count": null,
     "metadata": {},
     "output_type": "execute_result"
    }
   ],
   "source": [
    "ohe_genetic_info = np.identity(3)[genetic_file.get_geno_each_sample(probs,\"max\").astype(int)] #sometimes it has Nans so need to convert to type int\n",
    "ohe_genetic_info"
   ]
  }
 ],
 "metadata": {
  "kernelspec": {
   "display_name": "Python 3",
   "language": "python",
   "name": "python3"
  }
 },
 "nbformat": 4,
 "nbformat_minor": 5
}
