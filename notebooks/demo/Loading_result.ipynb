{
 "cells": [
  {
   "cell_type": "code",
   "execution_count": null,
   "id": "3217a4e2-4133-4dab-b043-c66e57cbcebd",
   "metadata": {},
   "outputs": [],
   "source": [
    "from pickle import load"
   ]
  },
  {
   "cell_type": "code",
   "execution_count": null,
   "id": "365493a6-d1bf-4dc1-acd4-a28847d4eaaa",
   "metadata": {},
   "outputs": [
    {
     "data": {
      "text/plain": [
       "20"
      ]
     },
     "execution_count": null,
     "metadata": {},
     "output_type": "execute_result"
    }
   ],
   "source": [
    "load(open(\"../../data/07_model_output/cnn/4_18_2021/phenotype_I84_threshold_1e-08\", \"rb\"))[\"outputs\"][\"history\"][\"val_auc\"]"
   ]
  },
  {
   "cell_type": "code",
   "execution_count": null,
   "id": "35145aa7-096a-4cbe-a621-b250bb74068b",
   "metadata": {},
   "outputs": [],
   "source": []
  }
 ],
 "metadata": {
  "kernelspec": {
   "display_name": "Python 3",
   "language": "python",
   "name": "python3"
  }
 },
 "nbformat": 4,
 "nbformat_minor": 5
}
