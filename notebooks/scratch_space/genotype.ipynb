{
 "cells": [
  {
   "cell_type": "code",
   "execution_count": null,
   "id": "213fbf76-e641-4635-a99c-9765f2dcfe4f",
   "metadata": {},
   "outputs": [],
   "source": [
    "#default_exp genotype"
   ]
  },
  {
   "cell_type": "code",
   "execution_count": null,
   "id": "2e68469f-1206-4032-a97e-c13bd16e6085",
   "metadata": {},
   "outputs": [],
   "source": [
    "from combinatorial_gwas.data_catalog import get_catalog, get_config, get_parameters\n",
    "from pydantic import BaseModel\n",
    "import dask.dataframe as dd\n",
    "from dask.delayed import Delayed\n",
    "from bgen_reader import open_bgen, read_bgen\n",
    "import numpy as np\n",
    "import pandas as pd\n",
    "from typing import List, Union"
   ]
  },
  {
   "cell_type": "code",
   "execution_count": null,
   "id": "428a009c-c6f6-4b30-9404-51678df77b05",
   "metadata": {},
   "outputs": [
    {
     "data": {
      "text/plain": [
       "['example_iris_data',\n",
       " 'globals_test',\n",
       " 'ICD10_pheno_matrix',\n",
       " 'phenotypes_info_Neale',\n",
       " 'GWAS_results_links_df',\n",
       " 'heritability_trait_level_summary',\n",
       " 'heritability_trait_level_partitioned_z4_sig']"
      ]
     },
     "execution_count": null,
     "metadata": {},
     "output_type": "execute_result"
    }
   ],
   "source": [
    "get_catalog().list()"
   ]
  },
  {
   "cell_type": "code",
   "execution_count": null,
   "id": "042997e2-51ea-4a11-a718-170d5273d751",
   "metadata": {},
   "outputs": [],
   "source": [
    "#export\n",
    "def get_geno_one_snp(row,  high_lim=0.9, low_lim=0.3, NA_val = np.nan):\n",
    "    geno_1, geno_2, geno_3 = row\n",
    "    homo_ref_cond = (geno_1 >=high_lim) & (geno_2 < low_lim) & (geno_3 < low_lim)\n",
    "    het_cond = (geno_2 >= high_lim) & (geno_1 < low_lim) & (geno_3 < low_lim)\n",
    "    homo_alt_cond = (geno_3 >= high_lim) & (geno_1 < low_lim) & (geno_2 < low_lim)\n",
    "    geno_df =  np.select([homo_ref_cond, het_cond, homo_alt_cond],\n",
    "             [0., 1., 2.],\n",
    "             default = NA_val)\n",
    "    return geno_df"
   ]
  },
  {
   "cell_type": "code",
   "execution_count": null,
   "id": "29fb93ec-76f1-473f-98fc-8e8c0b912c68",
   "metadata": {},
   "outputs": [],
   "source": [
    "#export\n",
    "class BgenFileObject(BaseModel):\n",
    "    variants: dd.DataFrame\n",
    "    samples: pd.Series\n",
    "    genotype: List[Delayed]\n",
    "    bgen_reader_obj: open_bgen\n",
    "    \n",
    "    class Config:\n",
    "        arbitrary_types_allowed = True\n",
    "    \n",
    "    def __repr__(self):\n",
    "        return str(self.__class__) + f\" {self.samples.shape[0]} samples\"\n",
    "    \n",
    "    def get_variant_index(self,ids=None):\n",
    "        variant_index = np.argwhere(np.isin(self.bgen_reader_obj.ids, ids)).reshape(-1,) if rsids is not None else None\n",
    "        return variant_index\n",
    "    \n",
    "    def get_sample_index(self, sample_ids=None):\n",
    "        sample_index = np.argwhere(np.isin(self.samples.values, sample_ids)).reshape(-1,) if sample_ids is not None else None\n",
    "        return sample_index\n",
    "    \n",
    "    def get_probs(self, sample_ids=None, rsids=None):\n",
    "        variant_index = self.get_variant_index(rsids)\n",
    "        sample_index = self.get_sample_index(sample_ids)\n",
    "        return self.bgen_reader_obj.read((sample_index, variant_index))\n",
    "    \n",
    "    \n",
    "    def get_geno_each_sample(self, probs, prob_to_geno_func:Union[\"max\", \"stringent\"]= \"stringent\", high_lim=0.9, low_lim=0.3, NA_val=np.nan):\n",
    "        if prob_to_geno_func == \"max\":\n",
    "            geno = np.nanargmax(probs, axis=2).astype(float)\n",
    "            \n",
    "        elif prob_to_geno_func == \"stringent\":\n",
    "            geno = np.apply_along_axis(get_geno_one_snp, axis=2, arr=probs, high_lim=high_lim, low_lim=low_lim, NA_val=NA_val)\n",
    "        \n",
    "        return geno\n",
    "            \n",
    "        \n",
    "    def get_allele_ids(self, rsids = None, variant_index = None):\n",
    "        if variant_index is None:\n",
    "            variant_index = self.get_variant_index(rsids)\n",
    "        df = pd.DataFrame([allele_str.split(\",\") for allele_str in self.bgen_reader_obj.allele_ids[variant_index]], columns = [\"allele_1\", \"allele_2\"])\n",
    "        \n",
    "        if rsids is not None:\n",
    "            df.index = rsids\n",
    "        return df\n",
    "    \n",
    "    def get_variant_combinations(self, rsids = None, variant_index = None):\n",
    "        if variant_index is None:\n",
    "            variant_index = np.argwhere(np.isin(self.bgen_reader_obj.rsids, rsids)).reshape(-1,) if rsids is not None else None\n",
    "        geno_df = self.get_allele_ids(rsids, variant_index)\n",
    "        geno_df = get_possible_geno_combinations(geno_df, \"allele_1\", \"allele_2\")\n",
    "        return geno_df"
   ]
  },
  {
   "cell_type": "code",
   "execution_count": null,
   "id": "5d9a8a67-c9b4-477e-9ebf-8d7e3bb43c82",
   "metadata": {},
   "outputs": [],
   "source": [
    "#export \n",
    "parameters = get_parameters()\n",
    "\n",
    "def get_genetic_file_path(chrom):\n",
    "    bgen_path = parameters[\"genetic_file_path_template\"].format(chrom_number=chrom)\n",
    "    sample_path = parameters[\"sample_file_template\"].format(chrom_number=chrom)\n",
    "    return (bgen_path,sample_path)\n",
    "\n",
    "def load_genetic_file(chrom):\n",
    "    bgen_path, sample_path = get_genetic_file_path(chrom)\n",
    "    return BgenFileObject(**read_bgen(filepath=bgen_path, samples_filepath=sample_path), bgen_reader_obj = open_bgen(filepath=bgen_path, samples_filepath=sample_path))"
   ]
  },
  {
   "cell_type": "code",
   "execution_count": null,
   "id": "87c21cb2-31a3-42be-b6c1-cb180b7c19ed",
   "metadata": {},
   "outputs": [
    {
     "data": {
      "text/plain": [
       "('/lab/corradin_biobank/Raw_UKB_downloads/BGEN/ukb_imp_chr22_v3.bgen',\n",
       " '/lab/corradin_biobank/Raw_UKB_downloads/sample_files/ukb45624_imp_chr21_v3_s487275.sample')"
      ]
     },
     "execution_count": null,
     "metadata": {},
     "output_type": "execute_result"
    }
   ],
   "source": [
    "get_genetic_file_path(22)"
   ]
  },
  {
   "cell_type": "code",
   "execution_count": null,
   "id": "c7c86731-fff7-4c0e-80ce-77d0f2186e0b",
   "metadata": {},
   "outputs": [
    {
     "name": "stdout",
     "output_type": "stream",
     "text": [
      "Sample IDs are read from /lab/corradin_biobank/Raw_UKB_downloads/sample_files/ukb45624_imp_chr21_v3_s487275.sample.\n"
     ]
    },
    {
     "name": "stderr",
     "output_type": "stream",
     "text": [
      "Mapping genotypes: 100%|██████████| 1261158/1261158 [01:06<00:00, 18944.65it/s]\n"
     ]
    }
   ],
   "source": [
    "test_bgen = load_genetic_file(21)"
   ]
  },
  {
   "cell_type": "code",
   "execution_count": null,
   "id": "45c42a31-2cf1-46c9-a477-113015857511",
   "metadata": {},
   "outputs": [
    {
     "data": {
      "text/plain": [
       "0         5542886\n",
       "1         5137974\n",
       "2         3758348\n",
       "3         1391800\n",
       "4         3165331\n",
       "           ...   \n",
       "487404    5512806\n",
       "487405    5548469\n",
       "487406    2956972\n",
       "487407    5229561\n",
       "487408    3665101\n",
       "Name: id, Length: 487409, dtype: object"
      ]
     },
     "execution_count": null,
     "metadata": {},
     "output_type": "execute_result"
    }
   ],
   "source": [
    "test_bgen.samples"
   ]
  },
  {
   "cell_type": "code",
   "execution_count": null,
   "id": "0fb11b24-8682-492b-bc53-0e67b982d738",
   "metadata": {},
   "outputs": [
    {
     "data": {
      "text/plain": [
       "memmap(['21:9411239_G_A', '21:9411245_C_A', '21:9411264_A_C', ...,\n",
       "        '21:48119697_T_G', '21:48119700_A_G', '21:48119740_C_G'],\n",
       "       dtype='<U115')"
      ]
     },
     "execution_count": null,
     "metadata": {},
     "output_type": "execute_result"
    }
   ],
   "source": [
    "test_bgen.bgen_reader_obj.ids"
   ]
  }
 ],
 "metadata": {
  "kernelspec": {
   "display_name": "Python 3",
   "language": "python",
   "name": "python3"
  }
 },
 "nbformat": 4,
 "nbformat_minor": 5
}
