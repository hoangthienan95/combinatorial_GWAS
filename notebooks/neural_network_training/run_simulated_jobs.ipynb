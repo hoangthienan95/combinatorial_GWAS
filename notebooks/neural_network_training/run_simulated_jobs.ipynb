{
 "cells": [
  {
   "cell_type": "code",
   "execution_count": null,
   "id": "8f0d41e7-7984-4616-9e58-7efc33f59e3a",
   "metadata": {},
   "outputs": [
    {
     "name": "stderr",
     "output_type": "stream",
     "text": [
      "/lab/corradin_biobank/FOR_AN/combinatorial_GWAS/.venv/lib/python3.8/site-packages/kedro/extras/datasets/pandas/csv_dataset.py:158: ParserWarning: Falling back to the 'python' engine because the 'c' engine does not support regex separators (separators > 1 char and different from '\\s+' are interpreted as regex); you can avoid this warning by specifying engine='python'.\n",
      "  return pd.read_csv(fs_file, **self._load_args)\n",
      "WARNING:root:Loading ICD phenotype matrix, this might take a while\n",
      "WARNING:root:Finished loading ICD10 matrix\n"
     ]
    }
   ],
   "source": [
    "from combinatorial_gwas.phenotypes import quality_heritability_phenos\n",
    "import os"
   ]
  },
  {
   "cell_type": "code",
   "execution_count": null,
   "id": "de525bb8-9c2e-468a-af00-4ac02d8dccd7",
   "metadata": {},
   "outputs": [],
   "source": [
    "quality_heritability_phenos.head() #27 significantly heritable phenotypes"
   ]
  },
  {
   "cell_type": "code",
   "execution_count": null,
   "id": "4261abbb-a8ae-4a3c-8774-dd9b773a8d2b",
   "metadata": {},
   "outputs": [],
   "source": [
    "display_cols = ['description', 'h2_liability', 'h2_sig', 'confidence', 'n_cases', 'n_controls', 'prevalence']\n"
   ]
  },
  {
   "cell_type": "code",
   "execution_count": null,
   "id": "4203a700-f126-49af-9797-56aab5c87170",
   "metadata": {},
   "outputs": [],
   "source": [
    "!bgadd /combigwas"
   ]
  },
  {
   "cell_type": "code",
   "execution_count": null,
   "id": "7ca33f35-ec35-4c70-a311-acbb88a2fc06",
   "metadata": {},
   "outputs": [],
   "source": [
    "!bgmod -L 30 /combigwas"
   ]
  },
  {
   "cell_type": "code",
   "execution_count": null,
   "id": "6af2a2ba-ef0b-4616-807c-a6b98743bdf5",
   "metadata": {},
   "outputs": [],
   "source": [
    "from functools import partial\n",
    "\n",
    "get_command = partial(\"bsub -g /combigwas -q corradin -u '{email}' -J {pheno}_{threshold}_{max_samples} -n 10 /lab/corradin_biobank/FOR_AN/combinatorial_GWAS/.venv/bin/python  /lab/corradin_biobank/FOR_AN/combinatorial_GWAS/notebooks/neural_network_training/nn.py {pheno} --network {nn} --thresholds {threshold} --create-test-output -m {max_samples} -r 42 -mptf\".format)"
   ]
  },
  {
   "cell_type": "code",
   "execution_count": null,
   "id": "78d8b7ba-9f30-4cb9-b351-345dc01d1b3f",
   "metadata": {},
   "outputs": [],
   "source": [
    "email = \"anhoang@wi.mit.edu\""
   ]
  },
  {
   "cell_type": "markdown",
   "id": "0e3b3baa-48c1-4622-a46f-d45c18d90ca2",
   "metadata": {},
   "source": [
    "## Check that the command is correct"
   ]
  },
  {
   "cell_type": "code",
   "execution_count": null,
   "id": "04c09061-d1f6-430f-becf-1b33e4303201",
   "metadata": {},
   "outputs": [
    {
     "data": {
      "text/plain": [
       "\"bsub -q corradin -u 'anhoang@wi.mit.edu' -J I83_1e-05_100000 /lab/corradin_biobank/FOR_AN/combinatorial_GWAS/.venv/bin/python  /lab/corradin_biobank/FOR_AN/combinatorial_GWAS/notebooks/neural_network_training/nn.py I83 --thresholds 1e-05 --create-test-output -m 100000 \""
      ]
     },
     "execution_count": null,
     "metadata": {},
     "output_type": "execute_result"
    }
   ],
   "source": [
    "get_command(pheno = \"I83\", threshold = 1e-5, max_samples = 100_000, email = email)"
   ]
  },
  {
   "cell_type": "markdown",
   "id": "92b1a83d-7aa0-4612-8f36-6ca0ff1a60e8",
   "metadata": {},
   "source": [
    "## Execute the command"
   ]
  },
  {
   "cell_type": "code",
   "execution_count": null,
   "id": "bb01c988-f454-43d9-918f-ee693a9dc25b",
   "metadata": {},
   "outputs": [
    {
     "name": "stdout",
     "output_type": "stream",
     "text": [
      "Job <9642219> is submitted to queue <corradin>.\n"
     ]
    }
   ],
   "source": [
    "!{get_command(pheno = \"I83\", threshold = 1e-5, max_samples = 100_000)}"
   ]
  },
  {
   "cell_type": "markdown",
   "id": "ae5edf8a-107a-4cec-b7e6-31f95f98273b",
   "metadata": {},
   "source": [
    "## Execute in a loop"
   ]
  },
  {
   "cell_type": "code",
   "execution_count": null,
   "id": "89a72332-10f6-4fe6-afd5-bdc8bbc8a200",
   "metadata": {},
   "outputs": [
    {
     "name": "stdout",
     "output_type": "stream",
     "text": [
      "Job <9642232> is submitted to queue <corradin>.\n",
      "Job <9642233> is submitted to queue <corradin>.\n",
      "Job <9642234> is submitted to queue <corradin>.\n"
     ]
    }
   ],
   "source": [
    "for pheno in quality_heritability_phenos.sort_values(\"h2_liability\", ascending=False).index:\n",
    "    for threshold in [1e-6, 1e-7, 1e-8]:\n",
    "        for max_samples in [1000, 10_000, 100_000, 300_000, 500_000]:\n",
    "            command = get_command(pheno = pheno, threshold = threshold, max_samples = max_samples, email = email)\n",
    "            !{command}"
   ]
  },
  {
   "cell_type": "code",
   "execution_count": null,
   "id": "b57e9b27-5acf-4a2d-a3e1-442029fa8426",
   "metadata": {},
   "outputs": [
    {
     "name": "stdout",
     "output_type": "stream",
     "text": [
      "Job <9970684> is submitted to queue <corradin>.\n",
      "Job <9970685> is submitted to queue <corradin>.\n",
      "Job <9970686> is submitted to queue <corradin>.\n",
      "Job <9970688> is submitted to queue <corradin>.\n",
      "Job <9970689> is submitted to queue <corradin>.\n"
     ]
    }
   ],
   "source": [
    "# email = 'premc@mit.edu'\n",
    "# for pheno in ['I83']:\n",
    "#     for threshold in [1e-8]:\n",
    "#         for max_samples in [1000, 10_000, 100_000, 300_000, 500_000]:\n",
    "#             command = get_command(pheno = pheno, threshold = threshold, max_samples = max_samples, email = email, nn='dnn')\n",
    "#             !{command}"
   ]
  },
  {
   "cell_type": "code",
   "execution_count": null,
   "id": "20ac22f5-7a30-442a-b836-0f94628adb20",
   "metadata": {},
   "outputs": [
    {
     "name": "stdout",
     "output_type": "stream",
     "text": [
      "Job <1529875> is submitted to queue <corradin>.\n",
      "Job <1529876> is submitted to queue <corradin>.\n",
      "Job <1529877> is submitted to queue <corradin>.\n",
      "Job <1529878> is submitted to queue <corradin>.\n",
      "Job <1529879> is submitted to queue <corradin>.\n",
      "Job <1529880> is submitted to queue <corradin>.\n",
      "Job <1529881> is submitted to queue <corradin>.\n",
      "Job <1529882> is submitted to queue <corradin>.\n",
      "Job <1529883> is submitted to queue <corradin>.\n",
      "Job <1529884> is submitted to queue <corradin>.\n",
      "Job <1529885> is submitted to queue <corradin>.\n",
      "Job <1529886> is submitted to queue <corradin>.\n",
      "Job <1529887> is submitted to queue <corradin>.\n",
      "Job <1529888> is submitted to queue <corradin>.\n",
      "Job <1529889> is submitted to queue <corradin>.\n",
      "Job <1529890> is submitted to queue <corradin>.\n",
      "Job <1529891> is submitted to queue <corradin>.\n",
      "Job <1529892> is submitted to queue <corradin>.\n",
      "Job <1529893> is submitted to queue <corradin>.\n",
      "Job <1529894> is submitted to queue <corradin>.\n",
      "Job <1529895> is submitted to queue <corradin>.\n",
      "Job <1529896> is submitted to queue <corradin>.\n",
      "Job <1529897> is submitted to queue <corradin>.\n",
      "Job <1529898> is submitted to queue <corradin>.\n",
      "Job <1529899> is submitted to queue <corradin>.\n",
      "Job <1529900> is submitted to queue <corradin>.\n",
      "Job <1529901> is submitted to queue <corradin>.\n",
      "Job <1529902> is submitted to queue <corradin>.\n",
      "Job <1529903> is submitted to queue <corradin>.\n",
      "Job <1529904> is submitted to queue <corradin>.\n",
      "Job <1529905> is submitted to queue <corradin>.\n",
      "Job <1529906> is submitted to queue <corradin>.\n",
      "Job <1529907> is submitted to queue <corradin>.\n",
      "Job <1529908> is submitted to queue <corradin>.\n",
      "Job <1529909> is submitted to queue <corradin>.\n",
      "Job <1529910> is submitted to queue <corradin>.\n",
      "Job <1529911> is submitted to queue <corradin>.\n",
      "Job <1529912> is submitted to queue <corradin>.\n",
      "Job <1529913> is submitted to queue <corradin>.\n",
      "Job <1529914> is submitted to queue <corradin>.\n",
      "Job <1529915> is submitted to queue <corradin>.\n",
      "Job <1529916> is submitted to queue <corradin>.\n",
      "Job <1529917> is submitted to queue <corradin>.\n",
      "Job <1529918> is submitted to queue <corradin>.\n",
      "Job <1529919> is submitted to queue <corradin>.\n",
      "Job <1529920> is submitted to queue <corradin>.\n",
      "Job <1529921> is submitted to queue <corradin>.\n",
      "Job <1529922> is submitted to queue <corradin>.\n",
      "Job <1529923> is submitted to queue <corradin>.\n",
      "Job <1529924> is submitted to queue <corradin>.\n",
      "Job <1529925> is submitted to queue <corradin>.\n",
      "Job <1529926> is submitted to queue <corradin>.\n",
      "Job <1529927> is submitted to queue <corradin>.\n",
      "Job <1529928> is submitted to queue <corradin>.\n",
      "Job <1529929> is submitted to queue <corradin>.\n",
      "Job <1529930> is submitted to queue <corradin>.\n",
      "Job <1529931> is submitted to queue <corradin>.\n",
      "Job <1529932> is submitted to queue <corradin>.\n",
      "Job <1529933> is submitted to queue <corradin>.\n",
      "Job <1529934> is submitted to queue <corradin>.\n"
     ]
    }
   ],
   "source": [
    "email = 'premc@mit.edu'\n",
    "for pheno in ['I83', 'I25', 'G56', 'N81', 'M16', 'M17', 'I48', 'C44', 'K80', 'I21']:\n",
    "    for network in ['dnn', 'cnn']:\n",
    "        for threshold in [1e-6, 1e-7, 1e-8]:\n",
    "            for max_samples in [0]:\n",
    "                command = get_command(pheno = pheno, threshold = threshold, max_samples = max_samples, email = email, nn=network)\n",
    "                !{command}\n",
    "\n",
    "## Check the status of jobs"
   ]
  },
  {
   "cell_type": "code",
   "execution_count": null,
   "id": "4cd45f6b-e042-47fd-867b-5af5aed829f9",
   "metadata": {},
   "outputs": [
    {
     "name": "stdout",
     "output_type": "stream",
     "text": [
      "JOBID   USER    STAT  QUEUE      FROM_HOST   EXEC_HOST   JOB_NAME   SUBMIT_TIME\n",
      "1529886 anhoang RUN   corradin   thyroxine   c1b6        I25_1e-08_0 May 12 01:13\n",
      "1529890 anhoang RUN   corradin   thyroxine   c1b10       G56_1e-06_0 May 12 01:13\n",
      "1529891 anhoang RUN   corradin   thyroxine   c1b5        G56_1e-07_0 May 12 01:13\n",
      "1529881 anhoang RUN   corradin   thyroxine   c3b9        I25_1e-06_0 May 12 01:13\n",
      "1529898 anhoang RUN   corradin   thyroxine   c2b7        N81_1e-08_0 May 12 01:13\n",
      "1529910 anhoang RUN   corradin   thyroxine   c1b7        M17_1e-08_0 May 12 01:13\n",
      "1529912 anhoang RUN   corradin   thyroxine   c1b7        I48_1e-07_0 May 12 01:13\n",
      "1529913 anhoang RUN   corradin   thyroxine   c1b7        I48_1e-08_0 May 12 01:13\n",
      "1529914 anhoang RUN   corradin   thyroxine   c1b7        I48_1e-06_0 May 12 01:13\n",
      "1529915 anhoang RUN   corradin   thyroxine   c1b7        I48_1e-07_0 May 12 01:13\n",
      "1529908 anhoang RUN   corradin   thyroxine   c3b6        M17_1e-06_0 May 12 01:13\n",
      "1529909 anhoang RUN   corradin   thyroxine   c3b6        M17_1e-07_0 May 12 01:13\n",
      "1529911 anhoang RUN   corradin   thyroxine   c3b6        I48_1e-06_0 May 12 01:13\n",
      "1529899 anhoang RUN   corradin   thyroxine   c4b14       M16_1e-06_0 May 12 01:13\n",
      "1529876 anhoang RUN   corradin   thyroxine   c2b10       I83_1e-07_0 May 12 01:13\n",
      "1529877 anhoang RUN   corradin   thyroxine   c1b3        I83_1e-08_0 May 12 01:13\n",
      "1529878 anhoang RUN   corradin   thyroxine   c1b9        I83_1e-06_0 May 12 01:13\n",
      "1529879 anhoang RUN   corradin   thyroxine   c2b12       I83_1e-07_0 May 12 01:13\n",
      "1529882 anhoang RUN   corradin   thyroxine   c3b11       I25_1e-07_0 May 12 01:13\n",
      "1529883 anhoang RUN   corradin   thyroxine   c1b4        I25_1e-08_0 May 12 01:13\n",
      "1529884 anhoang RUN   corradin   thyroxine   c1b13       I25_1e-06_0 May 12 01:13\n",
      "1529887 anhoang RUN   corradin   thyroxine   c2b15       G56_1e-06_0 May 12 01:13\n",
      "1529888 anhoang RUN   corradin   thyroxine   c2b8        G56_1e-07_0 May 12 01:13\n",
      "1529889 anhoang RUN   corradin   thyroxine   c3b14       G56_1e-08_0 May 12 01:13\n",
      "1529892 anhoang RUN   corradin   thyroxine   c2b14       G56_1e-08_0 May 12 01:13\n",
      "1529893 anhoang RUN   corradin   thyroxine   c1b2        N81_1e-06_0 May 12 01:13\n",
      "1529897 anhoang RUN   corradin   thyroxine   c2b16       N81_1e-07_0 May 12 01:13\n",
      "1529900 anhoang RUN   corradin   thyroxine   c1b11       M16_1e-07_0 May 12 01:13\n",
      "1529901 anhoang RUN   corradin   thyroxine   c1b12       M16_1e-08_0 May 12 01:13\n",
      "1529902 anhoang RUN   corradin   thyroxine   it-r16u31   M16_1e-06_0 May 12 01:13\n",
      "1529916 anhoang PEND  corradin   thyroxine      -        I48_1e-08_0 May 12 01:13\n",
      "1529917 anhoang PEND  corradin   thyroxine      -        C44_1e-06_0 May 12 01:13\n",
      "1529918 anhoang PEND  corradin   thyroxine      -        C44_1e-07_0 May 12 01:13\n",
      "1529919 anhoang PEND  corradin   thyroxine      -        C44_1e-08_0 May 12 01:13\n",
      "1529920 anhoang PEND  corradin   thyroxine      -        C44_1e-06_0 May 12 01:13\n",
      "1529921 anhoang PEND  corradin   thyroxine      -        C44_1e-07_0 May 12 01:13\n",
      "1529922 anhoang PEND  corradin   thyroxine      -        C44_1e-08_0 May 12 01:13\n",
      "1529923 anhoang PEND  corradin   thyroxine      -        K80_1e-06_0 May 12 01:13\n",
      "1529924 anhoang PEND  corradin   thyroxine      -        K80_1e-07_0 May 12 01:13\n",
      "1529925 anhoang PEND  corradin   thyroxine      -        K80_1e-08_0 May 12 01:13\n",
      "1529926 anhoang PEND  corradin   thyroxine      -        K80_1e-06_0 May 12 01:13\n",
      "1529927 anhoang PEND  corradin   thyroxine      -        K80_1e-07_0 May 12 01:13\n",
      "1529928 anhoang PEND  corradin   thyroxine      -        K80_1e-08_0 May 12 01:13\n",
      "1529929 anhoang PEND  corradin   thyroxine      -        I21_1e-06_0 May 12 01:13\n",
      "1529930 anhoang PEND  corradin   thyroxine      -        I21_1e-07_0 May 12 01:13\n",
      "1529931 anhoang PEND  corradin   thyroxine      -        I21_1e-08_0 May 12 01:13\n",
      "1529932 anhoang PEND  corradin   thyroxine      -        I21_1e-06_0 May 12 01:13\n",
      "1529933 anhoang PEND  corradin   thyroxine      -        I21_1e-07_0 May 12 01:13\n",
      "1529934 anhoang PEND  corradin   thyroxine      -        I21_1e-08_0 May 12 01:13\n"
     ]
    }
   ],
   "source": [
    "!bjobs -w -g /combigwas"
   ]
  },
  {
   "cell_type": "code",
   "execution_count": null,
   "id": "cc6f4574-1128-4d01-90cd-743270d6ebf9",
   "metadata": {},
   "outputs": [
    {
     "name": "stdout",
     "output_type": "stream",
     "text": [
      "Job <205935> is being terminated\n",
      "Job <205511> is being terminated\n",
      "Job <205449> is being terminated\n",
      "Job <205940> is being terminated\n",
      "Job <205941> is being terminated\n",
      "Job <205951> is being terminated\n",
      "Job <1529801> is being terminated\n"
     ]
    }
   ],
   "source": [
    "!bkill -g /combigwas 0"
   ]
  },
  {
   "cell_type": "code",
   "execution_count": null,
   "id": "7e883f1b-7883-4153-a866-8e82b8c9717c",
   "metadata": {},
   "outputs": [
    {
     "name": "stdout",
     "output_type": "stream",
     "text": [
      "Job <475127> is being terminated\n",
      "Job <475128> is being terminated\n",
      "Job <475129> is being terminated\n",
      "Job <475130> is being terminated\n",
      "Job <475131> is being terminated\n",
      "Job <475132> is being terminated\n",
      "Job <475133> is being terminated\n",
      "Job <475134> is being terminated\n",
      "Job <475135> is being terminated\n",
      "Job <475136> is being terminated\n",
      "Job <475137> is being terminated\n",
      "Job <475138> is being terminated\n",
      "Job <475139> is being terminated\n",
      "Job <475140> is being terminated\n",
      "Job <475141> is being terminated\n",
      "Job <475143> is being terminated\n",
      "Job <475146> is being terminated\n",
      "Job <475150> is being terminated\n",
      "Job <475153> is being terminated\n",
      "Job <475156> is being terminated\n",
      "Job <475157> is being terminated\n",
      "Job <475158> is being terminated\n",
      "Job <475159> is being terminated\n",
      "Job <475160> is being terminated\n",
      "Job <475161> is being terminated\n",
      "Job <475162> is being terminated\n",
      "Job <475163> is being terminated\n",
      "Job <475164> is being terminated\n",
      "Job <475165> is being terminated\n",
      "Job <475166> is being terminated\n"
     ]
    }
   ],
   "source": [
    "# jobs = [475127, 475128, 475129, 475130, 475131, 475132, 475133, 475134, 475135, 475136, 475137, 475138, 475139, 475140, 475141, 475143, 475146, 475150, 475153, 475156, 475157, 475158, 475159, 475160, 475161, 475162, 475163, 475164, 475165, 475166]\n",
    "# kills = [f'bkill {job}' for job in jobs]\n",
    "# for command in kills:\n",
    "# #     !{command}\n",
    "#     pass"
   ]
  },
  {
   "cell_type": "code",
   "execution_count": null,
   "id": "6e0b979d-9492-4b99-ae1b-4fa05eca64fc",
   "metadata": {},
   "outputs": [
    {
     "name": "stdout",
     "output_type": "stream",
     "text": [
      "Job group </combigwas-interp> was added.\n"
     ]
    }
   ],
   "source": [
    "!bgadd /combigwas-interp"
   ]
  },
  {
   "cell_type": "code",
   "execution_count": null,
   "id": "72f98060-8345-4a34-be76-37bd7043c015",
   "metadata": {},
   "outputs": [
    {
     "name": "stdout",
     "output_type": "stream",
     "text": [
      "Job group /combigwas-interp is modified.\n"
     ]
    }
   ],
   "source": [
    "!bgmod -L 30 /combigwas-interp"
   ]
  },
  {
   "cell_type": "code",
   "execution_count": null,
   "id": "d12d611a-e210-4ee9-a5a0-9cfe973d319e",
   "metadata": {},
   "outputs": [],
   "source": [
    "# email = 'premc@mit.edu'\n",
    "# for pheno in ['I83', 'I25', 'G56', 'N81', 'M16', 'M17', 'I48', 'C44', 'K80', 'I21']:\n",
    "#     for network in ['dnn', 'cnn', 'deeper-cnn', 'deeper-dnn']:\n",
    "#         for threshold in [1e-6, 1e-7, 1e-8]:\n",
    "#             for max_samples in [1000, 10_000, 100_000, 300_000, 500_000]:\n",
    "#                 command = get_command(pheno = pheno, threshold = threshold, max_samples = max_samples, email = email, nn=network)\n",
    "#                 !{command}\n",
    "\n",
    "# get_command = partial(\"bsub -g /combigwas -q corradin -u '{email}' -J {pheno}_{threshold}_{max_samples} /lab/corradin_biobank/FOR_AN/combinatorial_GWAS/.venv/bin/python  /lab/corradin_biobank/FOR_AN/combinatorial_GWAS/notebooks/neural_network_training/nn.py {pheno} --network {nn} --thresholds {threshold} --create-test-output -m {max_samples} -r 42\".format)\n",
    "\n",
    "\n",
    "def join(ls, sep='_'):\n",
    "    return sep.join(str(l) for l in ls)\n",
    "\n",
    "def get_name(networks, dates, phenotypes, thresholds, max_samples):\n",
    "    return f\"networks__{join(networks)}__dates__{join(dates)}__phenotypes__{join(phenotypes)}__thresholds__{join(thresholds)}__max_samples__{join(max_samples)}\"\n",
    "\n",
    "interp = lambda email, networks, dates, pheno, thresholds, max_samples: f\"bsub -g /combigwas-interp -q corradin -u '{email}' -J interp_{get_name(networks, dates, pheno, thresholds, max_samples)} /lab/corradin_biobank/FOR_AN/combinatorial_GWAS/.venv/bin/python /lab/corradin_biobank/FOR_AN/combinatorial_GWAS/notebooks/neural_network_training/interp.py -n {join(networks, ' ')} -d {join(dates, ' ')} -p {join(pheno, ' ')} -t {join(thresholds, ' ')} -m {join(max_samples, ' ')}\""
   ]
  },
  {
   "cell_type": "code",
   "execution_count": null,
   "id": "ec3cf191-4676-4aaa-8d29-5aa28a043c7f",
   "metadata": {},
   "outputs": [
    {
     "name": "stdout",
     "output_type": "stream",
     "text": [
      "bsub -g /combigwas-interp -q corradin -u 'premc@mit.edu' -J interp_networks__dnn_cnn__dates__4_29_2021__phenotypes__I83_I25_G56_N81_M16_M17_I48_C44_K80_I21__thresholds__6_7_8__max_samples__1000_10000_100000_300000_500000 /lab/corradin_biobank/FOR_AN/combinatorial_GWAS/.venv/bin/python /lab/corradin_biobank/FOR_AN/combinatorial_GWAS/notebooks/neural_network_training/interp.py -n dnn cnn -d 4_29_2021 -p I83 I25 G56 N81 M16 M17 I48 C44 K80 I21 -t 6 7 8 -m 1000 10000 100000 300000 500000\n"
     ]
    }
   ],
   "source": [
    "print(interp(email, ['dnn', 'cnn'], ['4_29_2021'], ['I83', 'I25', 'G56', 'N81', 'M16', 'M17', 'I48', 'C44', 'K80', 'I21'], [6, 7, 8], [1000, 10_000, 100_000, 300_000, 500_000]))"
   ]
  },
  {
   "cell_type": "code",
   "execution_count": null,
   "id": "67c1fc71-597f-406c-9984-fd6306189d11",
   "metadata": {},
   "outputs": [
    {
     "name": "stdout",
     "output_type": "stream",
     "text": [
      "Job <565211> is submitted to queue <corradin>.\n",
      "Job <565212> is submitted to queue <corradin>.\n",
      "Job <565213> is submitted to queue <corradin>.\n",
      "Job <565214> is submitted to queue <corradin>.\n",
      "Job <565215> is submitted to queue <corradin>.\n",
      "Job <565216> is submitted to queue <corradin>.\n",
      "Job <565217> is submitted to queue <corradin>.\n",
      "Job <565218> is submitted to queue <corradin>.\n",
      "Job <565219> is submitted to queue <corradin>.\n",
      "Job <565220> is submitted to queue <corradin>.\n",
      "Job <565221> is submitted to queue <corradin>.\n",
      "Job <565222> is submitted to queue <corradin>.\n",
      "Job <565223> is submitted to queue <corradin>.\n",
      "Job <565224> is submitted to queue <corradin>.\n",
      "Job <565225> is submitted to queue <corradin>.\n",
      "Job <565226> is submitted to queue <corradin>.\n",
      "Job <565227> is submitted to queue <corradin>.\n",
      "Job <565228> is submitted to queue <corradin>.\n",
      "Job <565229> is submitted to queue <corradin>.\n",
      "Job <565230> is submitted to queue <corradin>.\n",
      "Job <565231> is submitted to queue <corradin>.\n",
      "Job <565232> is submitted to queue <corradin>.\n",
      "Job <565233> is submitted to queue <corradin>.\n",
      "Job <565234> is submitted to queue <corradin>.\n",
      "Job <565235> is submitted to queue <corradin>.\n",
      "Job <565236> is submitted to queue <corradin>.\n",
      "Job <565237> is submitted to queue <corradin>.\n",
      "Job <565238> is submitted to queue <corradin>.\n",
      "Job <565239> is submitted to queue <corradin>.\n",
      "Job <565240> is submitted to queue <corradin>.\n"
     ]
    }
   ],
   "source": [
    "# email = \"premc@mit.edu\"\n",
    "# for dt in ['4_29_2021']:\n",
    "#     for nt in ['dnn', 'cnn']:\n",
    "#         for t in [6, 7, 8]:\n",
    "#             for m in [1000, 10_000, 100_000, 300_000, 500_000]:\n",
    "#                 cmd = interp(email, [nt], [dt], ['I83', 'I25', 'G56', 'N81', 'M16', 'M17', 'I48', 'C44', 'K80', 'I21'], [t], [m])\n",
    "# #                 !{cmd}"
   ]
  },
  {
   "cell_type": "code",
   "execution_count": null,
   "id": "21d47859-2cf7-4b9d-9fa3-aed641f82991",
   "metadata": {},
   "outputs": [
    {
     "name": "stdout",
     "output_type": "stream",
     "text": [
      "Job <1541771> is submitted to queue <corradin>.\n",
      "Job <1541772> is submitted to queue <corradin>.\n",
      "Job <1541773> is submitted to queue <corradin>.\n",
      "Job <1541774> is submitted to queue <corradin>.\n",
      "Job <1541775> is submitted to queue <corradin>.\n",
      "Job <1541776> is submitted to queue <corradin>.\n",
      "Job <1541777> is submitted to queue <corradin>.\n",
      "Job <1541778> is submitted to queue <corradin>.\n",
      "Job <1541779> is submitted to queue <corradin>.\n",
      "Job <1541780> is submitted to queue <corradin>.\n",
      "Job <1541781> is submitted to queue <corradin>.\n",
      "Job <1541782> is submitted to queue <corradin>.\n",
      "Job <1541783> is submitted to queue <corradin>.\n",
      "Job <1541784> is submitted to queue <corradin>.\n",
      "Job <1541785> is submitted to queue <corradin>.\n",
      "Job <1541786> is submitted to queue <corradin>.\n",
      "Job <1541787> is submitted to queue <corradin>.\n",
      "Job <1541788> is submitted to queue <corradin>.\n",
      "Job <1541789> is submitted to queue <corradin>.\n",
      "Job <1541790> is submitted to queue <corradin>.\n",
      "Job <1541791> is submitted to queue <corradin>.\n",
      "Job <1541792> is submitted to queue <corradin>.\n",
      "Job <1541793> is submitted to queue <corradin>.\n",
      "Job <1541794> is submitted to queue <corradin>.\n",
      "Job <1541795> is submitted to queue <corradin>.\n",
      "Job <1541796> is submitted to queue <corradin>.\n",
      "Job <1541797> is submitted to queue <corradin>.\n",
      "Job <1541798> is submitted to queue <corradin>.\n",
      "Job <1541799> is submitted to queue <corradin>.\n",
      "Job <1541800> is submitted to queue <corradin>.\n",
      "Job <1541801> is submitted to queue <corradin>.\n",
      "Job <1541802> is submitted to queue <corradin>.\n",
      "Job <1541803> is submitted to queue <corradin>.\n",
      "Job <1541804> is submitted to queue <corradin>.\n",
      "Job <1541805> is submitted to queue <corradin>.\n",
      "Job <1541806> is submitted to queue <corradin>.\n",
      "Job <1541807> is submitted to queue <corradin>.\n",
      "Job <1541808> is submitted to queue <corradin>.\n",
      "Job <1541809> is submitted to queue <corradin>.\n",
      "Job <1541810> is submitted to queue <corradin>.\n",
      "Job <1541811> is submitted to queue <corradin>.\n",
      "Job <1541812> is submitted to queue <corradin>.\n",
      "Job <1541813> is submitted to queue <corradin>.\n",
      "Job <1541814> is submitted to queue <corradin>.\n",
      "Job <1541815> is submitted to queue <corradin>.\n",
      "Job <1541816> is submitted to queue <corradin>.\n",
      "Job <1541817> is submitted to queue <corradin>.\n",
      "Job <1541818> is submitted to queue <corradin>.\n",
      "Job <1541819> is submitted to queue <corradin>.\n",
      "Job <1541820> is submitted to queue <corradin>.\n",
      "Job <1541821> is submitted to queue <corradin>.\n",
      "Job <1541822> is submitted to queue <corradin>.\n",
      "Job <1541823> is submitted to queue <corradin>.\n",
      "Job <1541824> is submitted to queue <corradin>.\n",
      "Job <1541825> is submitted to queue <corradin>.\n",
      "Job <1541826> is submitted to queue <corradin>.\n",
      "Job <1541827> is submitted to queue <corradin>.\n",
      "Job <1541828> is submitted to queue <corradin>.\n",
      "Job <1541829> is submitted to queue <corradin>.\n",
      "Job <1541830> is submitted to queue <corradin>.\n",
      "Job <1541831> is submitted to queue <corradin>.\n",
      "Job <1541832> is submitted to queue <corradin>.\n",
      "Job <1541833> is submitted to queue <corradin>.\n",
      "Job <1541834> is submitted to queue <corradin>.\n",
      "Job <1541835> is submitted to queue <corradin>.\n",
      "Job <1541836> is submitted to queue <corradin>.\n",
      "Job <1541838> is submitted to queue <corradin>.\n",
      "Job <1541839> is submitted to queue <corradin>.\n",
      "Job <1541840> is submitted to queue <corradin>.\n",
      "Job <1541841> is submitted to queue <corradin>.\n",
      "Job <1541842> is submitted to queue <corradin>.\n",
      "Job <1541843> is submitted to queue <corradin>.\n",
      "Job <1541844> is submitted to queue <corradin>.\n",
      "Job <1541845> is submitted to queue <corradin>.\n",
      "Job <1541846> is submitted to queue <corradin>.\n",
      "Job <1541847> is submitted to queue <corradin>.\n",
      "Job <1541848> is submitted to queue <corradin>.\n",
      "Job <1541849> is submitted to queue <corradin>.\n",
      "Job <1541850> is submitted to queue <corradin>.\n",
      "Job <1541851> is submitted to queue <corradin>.\n",
      "Job <1541852> is submitted to queue <corradin>.\n",
      "Job <1541853> is submitted to queue <corradin>.\n",
      "Job <1541854> is submitted to queue <corradin>.\n",
      "Job <1541855> is submitted to queue <corradin>.\n",
      "Job <1541856> is submitted to queue <corradin>.\n",
      "Job <1541857> is submitted to queue <corradin>.\n",
      "Job <1541858> is submitted to queue <corradin>.\n",
      "Job <1541859> is submitted to queue <corradin>.\n",
      "Job <1541860> is submitted to queue <corradin>.\n",
      "Job <1541861> is submitted to queue <corradin>.\n",
      "Job <1541862> is submitted to queue <corradin>.\n",
      "Job <1541863> is submitted to queue <corradin>.\n",
      "Job <1541864> is submitted to queue <corradin>.\n",
      "Job <1541865> is submitted to queue <corradin>.\n",
      "Job <1541866> is submitted to queue <corradin>.\n",
      "Job <1541867> is submitted to queue <corradin>.\n",
      "Job <1541868> is submitted to queue <corradin>.\n",
      "Job <1541869> is submitted to queue <corradin>.\n",
      "Job <1541870> is submitted to queue <corradin>.\n",
      "Job <1541871> is submitted to queue <corradin>.\n",
      "Job <1541872> is submitted to queue <corradin>.\n",
      "Job <1541873> is submitted to queue <corradin>.\n",
      "Job <1541874> is submitted to queue <corradin>.\n",
      "Job <1541875> is submitted to queue <corradin>.\n",
      "Job <1541877> is submitted to queue <corradin>.\n",
      "Job <1541878> is submitted to queue <corradin>.\n",
      "Job <1541879> is submitted to queue <corradin>.\n",
      "Job <1541880> is submitted to queue <corradin>.\n",
      "Job <1541881> is submitted to queue <corradin>.\n",
      "Job <1541882> is submitted to queue <corradin>.\n",
      "Job <1541883> is submitted to queue <corradin>.\n",
      "Job <1541884> is submitted to queue <corradin>.\n",
      "Job <1541885> is submitted to queue <corradin>.\n",
      "Job <1541886> is submitted to queue <corradin>.\n",
      "Job <1541887> is submitted to queue <corradin>.\n",
      "Job <1541888> is submitted to queue <corradin>.\n",
      "Job <1541889> is submitted to queue <corradin>.\n",
      "Job <1541890> is submitted to queue <corradin>.\n",
      "Job <1541891> is submitted to queue <corradin>.\n",
      "Job <1541892> is submitted to queue <corradin>.\n",
      "Job <1541893> is submitted to queue <corradin>.\n",
      "Job <1541894> is submitted to queue <corradin>.\n",
      "Job <1541895> is submitted to queue <corradin>.\n",
      "Job <1541896> is submitted to queue <corradin>.\n",
      "Job <1541897> is submitted to queue <corradin>.\n",
      "Job <1541898> is submitted to queue <corradin>.\n",
      "Job <1541899> is submitted to queue <corradin>.\n",
      "Job <1541900> is submitted to queue <corradin>.\n",
      "Job <1541901> is submitted to queue <corradin>.\n",
      "Job <1541902> is submitted to queue <corradin>.\n",
      "Job <1541903> is submitted to queue <corradin>.\n",
      "Job <1541904> is submitted to queue <corradin>.\n",
      "Job <1541905> is submitted to queue <corradin>.\n",
      "Job <1541906> is submitted to queue <corradin>.\n",
      "Job <1541907> is submitted to queue <corradin>.\n",
      "Job <1541908> is submitted to queue <corradin>.\n",
      "Job <1541909> is submitted to queue <corradin>.\n",
      "Job <1541910> is submitted to queue <corradin>.\n",
      "Job <1541911> is submitted to queue <corradin>.\n",
      "Job <1541912> is submitted to queue <corradin>.\n",
      "Job <1541913> is submitted to queue <corradin>.\n",
      "Job <1541914> is submitted to queue <corradin>.\n",
      "Job <1541915> is submitted to queue <corradin>.\n",
      "Job <1541916> is submitted to queue <corradin>.\n",
      "Job <1541917> is submitted to queue <corradin>.\n",
      "Job <1541918> is submitted to queue <corradin>.\n",
      "Job <1541919> is submitted to queue <corradin>.\n",
      "Job <1541920> is submitted to queue <corradin>.\n",
      "Job <1541921> is submitted to queue <corradin>.\n",
      "Job <1541922> is submitted to queue <corradin>.\n",
      "Job <1541923> is submitted to queue <corradin>.\n",
      "Job <1541924> is submitted to queue <corradin>.\n",
      "Job <1541925> is submitted to queue <corradin>.\n",
      "Job <1541926> is submitted to queue <corradin>.\n",
      "Job <1541927> is submitted to queue <corradin>.\n",
      "Job <1541928> is submitted to queue <corradin>.\n",
      "Job <1541929> is submitted to queue <corradin>.\n",
      "Job <1541930> is submitted to queue <corradin>.\n",
      "Job <1541931> is submitted to queue <corradin>.\n",
      "Job <1541932> is submitted to queue <corradin>.\n",
      "Job <1541933> is submitted to queue <corradin>.\n",
      "Job <1541934> is submitted to queue <corradin>.\n",
      "Job <1541935> is submitted to queue <corradin>.\n",
      "Job <1541936> is submitted to queue <corradin>.\n",
      "Job <1541937> is submitted to queue <corradin>.\n",
      "Job <1541938> is submitted to queue <corradin>.\n",
      "Job <1541939> is submitted to queue <corradin>.\n",
      "Job <1541940> is submitted to queue <corradin>.\n",
      "Job <1541941> is submitted to queue <corradin>.\n",
      "Job <1541942> is submitted to queue <corradin>.\n",
      "Job <1541943> is submitted to queue <corradin>.\n",
      "Job <1541944> is submitted to queue <corradin>.\n",
      "Job <1541945> is submitted to queue <corradin>.\n",
      "Job <1541946> is submitted to queue <corradin>.\n",
      "Job <1541947> is submitted to queue <corradin>.\n",
      "Job <1541948> is submitted to queue <corradin>.\n",
      "Job <1541949> is submitted to queue <corradin>.\n",
      "Job <1541950> is submitted to queue <corradin>.\n",
      "Job <1541951> is submitted to queue <corradin>.\n",
      "Job <1541952> is submitted to queue <corradin>.\n",
      "Job <1541953> is submitted to queue <corradin>.\n",
      "Job <1541954> is submitted to queue <corradin>.\n",
      "Job <1541955> is submitted to queue <corradin>.\n",
      "Job <1541956> is submitted to queue <corradin>.\n",
      "Job <1541957> is submitted to queue <corradin>.\n",
      "Job <1541958> is submitted to queue <corradin>.\n",
      "Job <1541959> is submitted to queue <corradin>.\n",
      "Job <1541960> is submitted to queue <corradin>.\n",
      "Job <1541961> is submitted to queue <corradin>.\n",
      "Job <1541962> is submitted to queue <corradin>.\n",
      "Job <1541963> is submitted to queue <corradin>.\n",
      "Job <1541964> is submitted to queue <corradin>.\n",
      "Job <1541965> is submitted to queue <corradin>.\n",
      "Job <1541966> is submitted to queue <corradin>.\n",
      "Job <1541967> is submitted to queue <corradin>.\n",
      "Job <1541968> is submitted to queue <corradin>.\n",
      "Job <1541969> is submitted to queue <corradin>.\n",
      "Job <1541970> is submitted to queue <corradin>.\n",
      "Job <1541971> is submitted to queue <corradin>.\n",
      "Job <1541972> is submitted to queue <corradin>.\n",
      "Job <1541973> is submitted to queue <corradin>.\n",
      "Job <1541974> is submitted to queue <corradin>.\n",
      "Job <1541975> is submitted to queue <corradin>.\n",
      "Job <1541976> is submitted to queue <corradin>.\n",
      "Job <1541977> is submitted to queue <corradin>.\n",
      "Job <1541978> is submitted to queue <corradin>.\n",
      "Job <1541979> is submitted to queue <corradin>.\n",
      "Job <1541980> is submitted to queue <corradin>.\n",
      "Job <1541981> is submitted to queue <corradin>.\n",
      "Job <1541982> is submitted to queue <corradin>.\n",
      "Job <1541983> is submitted to queue <corradin>.\n",
      "Job <1541984> is submitted to queue <corradin>.\n",
      "Job <1541985> is submitted to queue <corradin>.\n",
      "Job <1541986> is submitted to queue <corradin>.\n",
      "Job <1541987> is submitted to queue <corradin>.\n",
      "Job <1541988> is submitted to queue <corradin>.\n",
      "Job <1541989> is submitted to queue <corradin>.\n",
      "Job <1541990> is submitted to queue <corradin>.\n",
      "Job <1541991> is submitted to queue <corradin>.\n",
      "Job <1541992> is submitted to queue <corradin>.\n",
      "Job <1541993> is submitted to queue <corradin>.\n",
      "Job <1541994> is submitted to queue <corradin>.\n",
      "Job <1541995> is submitted to queue <corradin>.\n",
      "Job <1541996> is submitted to queue <corradin>.\n",
      "Job <1541997> is submitted to queue <corradin>.\n",
      "Job <1541998> is submitted to queue <corradin>.\n",
      "Job <1541999> is submitted to queue <corradin>.\n",
      "Job <1542000> is submitted to queue <corradin>.\n",
      "Job <1542001> is submitted to queue <corradin>.\n",
      "Job <1542002> is submitted to queue <corradin>.\n",
      "Job <1542003> is submitted to queue <corradin>.\n",
      "Job <1542004> is submitted to queue <corradin>.\n",
      "Job <1542005> is submitted to queue <corradin>.\n",
      "Job <1542006> is submitted to queue <corradin>.\n",
      "Job <1542007> is submitted to queue <corradin>.\n",
      "Job <1542008> is submitted to queue <corradin>.\n",
      "Job <1542009> is submitted to queue <corradin>.\n",
      "Job <1542010> is submitted to queue <corradin>.\n",
      "Job <1542011> is submitted to queue <corradin>.\n",
      "Job <1542012> is submitted to queue <corradin>.\n",
      "Job <1542013> is submitted to queue <corradin>.\n",
      "Job <1542014> is submitted to queue <corradin>.\n",
      "Job <1542015> is submitted to queue <corradin>.\n",
      "Job <1542016> is submitted to queue <corradin>.\n",
      "Job <1542017> is submitted to queue <corradin>.\n",
      "Job <1542018> is submitted to queue <corradin>.\n",
      "Job <1542019> is submitted to queue <corradin>.\n",
      "Job <1542020> is submitted to queue <corradin>.\n",
      "Job <1542021> is submitted to queue <corradin>.\n",
      "Job <1542022> is submitted to queue <corradin>.\n",
      "Job <1542023> is submitted to queue <corradin>.\n",
      "Job <1542024> is submitted to queue <corradin>.\n",
      "Job <1542025> is submitted to queue <corradin>.\n",
      "Job <1542026> is submitted to queue <corradin>.\n",
      "Job <1542027> is submitted to queue <corradin>.\n",
      "Job <1542028> is submitted to queue <corradin>.\n",
      "Job <1542029> is submitted to queue <corradin>.\n",
      "Job <1542030> is submitted to queue <corradin>.\n",
      "Job <1542031> is submitted to queue <corradin>.\n",
      "Job <1542032> is submitted to queue <corradin>.\n",
      "Job <1542033> is submitted to queue <corradin>.\n",
      "Job <1542034> is submitted to queue <corradin>.\n",
      "Job <1542035> is submitted to queue <corradin>.\n",
      "Job <1542036> is submitted to queue <corradin>.\n",
      "Job <1542037> is submitted to queue <corradin>.\n",
      "Job <1542038> is submitted to queue <corradin>.\n",
      "Job <1542039> is submitted to queue <corradin>.\n",
      "Job <1542040> is submitted to queue <corradin>.\n",
      "Job <1542041> is submitted to queue <corradin>.\n",
      "Job <1542042> is submitted to queue <corradin>.\n",
      "Job <1542043> is submitted to queue <corradin>.\n",
      "Job <1542044> is submitted to queue <corradin>.\n",
      "Job <1542045> is submitted to queue <corradin>.\n",
      "Job <1542046> is submitted to queue <corradin>.\n",
      "Job <1542047> is submitted to queue <corradin>.\n",
      "Job <1542048> is submitted to queue <corradin>.\n",
      "Job <1542049> is submitted to queue <corradin>.\n",
      "Job <1542050> is submitted to queue <corradin>.\n",
      "Job <1542051> is submitted to queue <corradin>.\n",
      "Job <1542052> is submitted to queue <corradin>.\n",
      "Job <1542053> is submitted to queue <corradin>.\n",
      "Job <1542054> is submitted to queue <corradin>.\n",
      "Job <1542055> is submitted to queue <corradin>.\n",
      "Job <1542056> is submitted to queue <corradin>.\n",
      "Job <1542057> is submitted to queue <corradin>.\n",
      "Job <1542058> is submitted to queue <corradin>.\n",
      "Job <1542059> is submitted to queue <corradin>.\n",
      "Job <1542060> is submitted to queue <corradin>.\n",
      "Job <1542061> is submitted to queue <corradin>.\n",
      "Job <1542062> is submitted to queue <corradin>.\n",
      "Job <1542063> is submitted to queue <corradin>.\n",
      "Job <1542064> is submitted to queue <corradin>.\n",
      "Job <1542065> is submitted to queue <corradin>.\n",
      "Job <1542066> is submitted to queue <corradin>.\n",
      "Job <1542067> is submitted to queue <corradin>.\n",
      "Job <1542068> is submitted to queue <corradin>.\n",
      "Job <1542069> is submitted to queue <corradin>.\n",
      "Job <1542070> is submitted to queue <corradin>.\n",
      "Job <1542071> is submitted to queue <corradin>.\n",
      "Job <1542072> is submitted to queue <corradin>.\n",
      "Job <1542073> is submitted to queue <corradin>.\n",
      "Job <1542074> is submitted to queue <corradin>.\n",
      "Job <1542076> is submitted to queue <corradin>.\n",
      "Job <1542077> is submitted to queue <corradin>.\n",
      "Job <1542078> is submitted to queue <corradin>.\n",
      "Job <1542079> is submitted to queue <corradin>.\n",
      "Job <1542080> is submitted to queue <corradin>.\n",
      "Job <1542081> is submitted to queue <corradin>.\n",
      "Job <1542082> is submitted to queue <corradin>.\n",
      "Job <1542083> is submitted to queue <corradin>.\n",
      "Job <1542084> is submitted to queue <corradin>.\n",
      "Job <1542085> is submitted to queue <corradin>.\n",
      "Job <1542086> is submitted to queue <corradin>.\n",
      "Job <1542087> is submitted to queue <corradin>.\n",
      "Job <1542088> is submitted to queue <corradin>.\n",
      "Job <1542089> is submitted to queue <corradin>.\n",
      "Job <1542090> is submitted to queue <corradin>.\n",
      "Job <1542091> is submitted to queue <corradin>.\n",
      "Job <1542092> is submitted to queue <corradin>.\n",
      "Job <1542093> is submitted to queue <corradin>.\n",
      "Job <1542094> is submitted to queue <corradin>.\n",
      "Job <1542095> is submitted to queue <corradin>.\n",
      "Job <1542096> is submitted to queue <corradin>.\n",
      "Job <1542097> is submitted to queue <corradin>.\n",
      "Job <1542098> is submitted to queue <corradin>.\n",
      "Job <1542099> is submitted to queue <corradin>.\n",
      "Job <1542100> is submitted to queue <corradin>.\n",
      "Job <1542101> is submitted to queue <corradin>.\n",
      "Job <1542102> is submitted to queue <corradin>.\n",
      "Job <1542103> is submitted to queue <corradin>.\n",
      "Job <1542104> is submitted to queue <corradin>.\n",
      "Job <1542105> is submitted to queue <corradin>.\n",
      "Job <1542106> is submitted to queue <corradin>.\n",
      "Job <1542107> is submitted to queue <corradin>.\n",
      "Job <1542108> is submitted to queue <corradin>.\n",
      "Job <1542109> is submitted to queue <corradin>.\n",
      "Job <1542110> is submitted to queue <corradin>.\n",
      "Job <1542111> is submitted to queue <corradin>.\n",
      "Job <1542112> is submitted to queue <corradin>.\n",
      "Job <1542113> is submitted to queue <corradin>.\n",
      "Job <1542114> is submitted to queue <corradin>.\n",
      "Job <1542115> is submitted to queue <corradin>.\n",
      "Job <1542116> is submitted to queue <corradin>.\n",
      "Job <1542117> is submitted to queue <corradin>.\n",
      "Job <1542118> is submitted to queue <corradin>.\n",
      "Job <1542119> is submitted to queue <corradin>.\n",
      "Job <1542120> is submitted to queue <corradin>.\n",
      "Job <1542121> is submitted to queue <corradin>.\n",
      "Job <1542122> is submitted to queue <corradin>.\n",
      "Job <1542123> is submitted to queue <corradin>.\n",
      "Job <1542124> is submitted to queue <corradin>.\n",
      "Job <1542125> is submitted to queue <corradin>.\n",
      "Job <1542126> is submitted to queue <corradin>.\n",
      "Job <1542127> is submitted to queue <corradin>.\n",
      "Job <1542128> is submitted to queue <corradin>.\n",
      "Job <1542129> is submitted to queue <corradin>.\n",
      "Job <1542130> is submitted to queue <corradin>.\n",
      "Job <1542131> is submitted to queue <corradin>.\n",
      "Job <1542132> is submitted to queue <corradin>.\n",
      "Job <1542133> is submitted to queue <corradin>.\n",
      "Job <1542134> is submitted to queue <corradin>.\n",
      "Job <1542135> is submitted to queue <corradin>.\n",
      "Job <1542136> is submitted to queue <corradin>.\n",
      "Job <1542137> is submitted to queue <corradin>.\n",
      "Job <1542138> is submitted to queue <corradin>.\n",
      "Job <1542139> is submitted to queue <corradin>.\n",
      "Job <1542140> is submitted to queue <corradin>.\n",
      "Job <1542141> is submitted to queue <corradin>.\n",
      "Job <1542142> is submitted to queue <corradin>.\n",
      "Job <1542143> is submitted to queue <corradin>.\n",
      "Job <1542144> is submitted to queue <corradin>.\n",
      "Job <1542145> is submitted to queue <corradin>.\n",
      "Job <1542146> is submitted to queue <corradin>.\n",
      "Job <1542147> is submitted to queue <corradin>.\n",
      "Job <1542148> is submitted to queue <corradin>.\n",
      "Job <1542149> is submitted to queue <corradin>.\n",
      "Job <1542150> is submitted to queue <corradin>.\n",
      "Job <1542151> is submitted to queue <corradin>.\n",
      "Job <1542152> is submitted to queue <corradin>.\n",
      "Job <1542153> is submitted to queue <corradin>.\n",
      "Job <1542154> is submitted to queue <corradin>.\n",
      "Job <1542155> is submitted to queue <corradin>.\n",
      "Job <1542156> is submitted to queue <corradin>.\n",
      "Job <1542157> is submitted to queue <corradin>.\n",
      "Job <1542158> is submitted to queue <corradin>.\n",
      "Job <1542159> is submitted to queue <corradin>.\n",
      "Job <1542160> is submitted to queue <corradin>.\n",
      "Job <1542161> is submitted to queue <corradin>.\n",
      "Job <1542162> is submitted to queue <corradin>.\n",
      "Job <1542163> is submitted to queue <corradin>.\n",
      "Job <1542164> is submitted to queue <corradin>.\n",
      "Job <1542165> is submitted to queue <corradin>.\n",
      "Job <1542166> is submitted to queue <corradin>.\n",
      "Job <1542167> is submitted to queue <corradin>.\n",
      "Job <1542168> is submitted to queue <corradin>.\n",
      "Job <1542169> is submitted to queue <corradin>.\n",
      "Job <1542170> is submitted to queue <corradin>.\n",
      "Job <1542171> is submitted to queue <corradin>.\n",
      "Job <1542172> is submitted to queue <corradin>.\n",
      "Job <1542173> is submitted to queue <corradin>.\n",
      "Job <1542174> is submitted to queue <corradin>.\n",
      "Job <1542175> is submitted to queue <corradin>.\n",
      "Job <1542176> is submitted to queue <corradin>.\n",
      "Job <1542177> is submitted to queue <corradin>.\n",
      "Job <1542178> is submitted to queue <corradin>.\n",
      "Job <1542179> is submitted to queue <corradin>.\n",
      "Job <1542180> is submitted to queue <corradin>.\n",
      "Job <1542181> is submitted to queue <corradin>.\n",
      "Job <1542182> is submitted to queue <corradin>.\n",
      "Job <1542183> is submitted to queue <corradin>.\n",
      "Job <1542184> is submitted to queue <corradin>.\n",
      "Job <1542185> is submitted to queue <corradin>.\n",
      "Job <1542186> is submitted to queue <corradin>.\n",
      "Job <1542187> is submitted to queue <corradin>.\n",
      "Job <1542188> is submitted to queue <corradin>.\n",
      "Job <1542189> is submitted to queue <corradin>.\n",
      "Job <1542190> is submitted to queue <corradin>.\n",
      "Job <1542191> is submitted to queue <corradin>.\n",
      "Job <1542192> is submitted to queue <corradin>.\n",
      "Job <1542193> is submitted to queue <corradin>.\n",
      "Job <1542194> is submitted to queue <corradin>.\n",
      "Job <1542195> is submitted to queue <corradin>.\n",
      "Job <1542196> is submitted to queue <corradin>.\n",
      "Job <1542197> is submitted to queue <corradin>.\n",
      "Job <1542198> is submitted to queue <corradin>.\n",
      "Job <1542199> is submitted to queue <corradin>.\n",
      "Job <1542200> is submitted to queue <corradin>.\n",
      "Job <1542201> is submitted to queue <corradin>.\n",
      "Job <1542202> is submitted to queue <corradin>.\n",
      "Job <1542203> is submitted to queue <corradin>.\n",
      "Job <1542204> is submitted to queue <corradin>.\n",
      "Job <1542205> is submitted to queue <corradin>.\n",
      "Job <1542206> is submitted to queue <corradin>.\n",
      "Job <1542207> is submitted to queue <corradin>.\n",
      "Job <1542208> is submitted to queue <corradin>.\n",
      "Job <1542209> is submitted to queue <corradin>.\n",
      "Job <1542210> is submitted to queue <corradin>.\n",
      "Job <1542211> is submitted to queue <corradin>.\n",
      "Job <1542212> is submitted to queue <corradin>.\n",
      "Job <1542213> is submitted to queue <corradin>.\n",
      "Job <1542214> is submitted to queue <corradin>.\n",
      "Job <1542215> is submitted to queue <corradin>.\n",
      "Job <1542216> is submitted to queue <corradin>.\n",
      "Job <1542217> is submitted to queue <corradin>.\n",
      "Job <1542218> is submitted to queue <corradin>.\n",
      "Job <1542219> is submitted to queue <corradin>.\n",
      "Job <1542220> is submitted to queue <corradin>.\n",
      "Job <1542221> is submitted to queue <corradin>.\n",
      "Job <1542222> is submitted to queue <corradin>.\n",
      "Job <1542223> is submitted to queue <corradin>.\n",
      "Job <1542224> is submitted to queue <corradin>.\n",
      "Job <1542225> is submitted to queue <corradin>.\n",
      "Job <1542226> is submitted to queue <corradin>.\n",
      "Job <1542227> is submitted to queue <corradin>.\n",
      "Job <1542228> is submitted to queue <corradin>.\n",
      "Job <1542229> is submitted to queue <corradin>.\n",
      "Job <1542230> is submitted to queue <corradin>.\n",
      "Job <1542231> is submitted to queue <corradin>.\n",
      "Job <1542232> is submitted to queue <corradin>.\n",
      "Job <1542233> is submitted to queue <corradin>.\n",
      "Job <1542234> is submitted to queue <corradin>.\n",
      "Job <1542235> is submitted to queue <corradin>.\n",
      "Job <1542236> is submitted to queue <corradin>.\n",
      "Job <1542237> is submitted to queue <corradin>.\n",
      "Job <1542238> is submitted to queue <corradin>.\n",
      "Job <1542239> is submitted to queue <corradin>.\n",
      "Job <1542240> is submitted to queue <corradin>.\n",
      "Job <1542241> is submitted to queue <corradin>.\n",
      "Job <1542242> is submitted to queue <corradin>.\n",
      "Job <1542243> is submitted to queue <corradin>.\n",
      "Job <1542244> is submitted to queue <corradin>.\n",
      "Job <1542245> is submitted to queue <corradin>.\n",
      "Job <1542246> is submitted to queue <corradin>.\n",
      "Job <1542247> is submitted to queue <corradin>.\n",
      "Job <1542248> is submitted to queue <corradin>.\n",
      "Job <1542249> is submitted to queue <corradin>.\n",
      "Job <1542250> is submitted to queue <corradin>.\n",
      "Job <1542251> is submitted to queue <corradin>.\n",
      "Job <1542252> is submitted to queue <corradin>.\n",
      "Job <1542253> is submitted to queue <corradin>.\n",
      "Job <1542254> is submitted to queue <corradin>.\n",
      "Job <1542255> is submitted to queue <corradin>.\n",
      "Job <1542256> is submitted to queue <corradin>.\n"
     ]
    }
   ],
   "source": [
    "simulated_interp = lambda email, networks, dates, pheno, thresholds, max_samples, o: f\"bsub -g /combigwas-interp -q corradin -u '{email}' -J interp_{get_name(networks, dates, pheno, thresholds, max_samples)} /lab/corradin_biobank/FOR_AN/combinatorial_GWAS/.venv/bin/python /lab/corradin_biobank/FOR_AN/combinatorial_GWAS/notebooks/neural_network_training/interp.py -n {join(networks, ' ')} -d {join(dates, ' ')} -p {join(pheno, ' ')} -t {join(thresholds, ' ')} -m {join(max_samples, ' ')} --output-file '{o}'\"\n",
    "email = \"anhoang@wi.mit.edu\"\n",
    "# raise Error # Put your email here\n",
    "for nt in ['dnn', 'cnn']:\n",
    "    for dt in ['5_11_2021']:\n",
    "        for filename in sorted(os.listdir(f'/lab/corradin_biobank/FOR_AN/combinatorial_GWAS/data/07_model_output/{nt}/{dt}')):\n",
    "            if filename.startswith('simulated') and 'max-samples_1000_' not in filename:\n",
    "                p = filename[filename.index('phenotype') + len('phenotype') + 1:filename.index('threshold') - 1]\n",
    "                t = int(filename[filename.index('threshold') + len('threshold') + 1:filename.index('max-samples') - 1][-1])\n",
    "                m = int(filename[filename.index('max-samples') + len('max-samples') + 1:filename.index('query') - 1])\n",
    "                command = simulated_interp(email, [nt], [dt], [p], [t], [m], filename).replace('`', '\\\\`')\n",
    "                !{command}"
   ]
  },
  {
   "cell_type": "code",
   "execution_count": null,
   "id": "0e8ef64c-0121-4de7-a040-4163e7c76db2",
   "metadata": {},
   "outputs": [
    {
     "name": "stdout",
     "output_type": "stream",
     "text": [
      "No job found in job group /combigwas-interp\n"
     ]
    }
   ],
   "source": [
    "!bjobs -w -g /combigwas-interp"
   ]
  },
  {
   "cell_type": "code",
   "execution_count": null,
   "id": "cfa9be9a-c464-47ce-8849-39437ba12731",
   "metadata": {},
   "outputs": [
    {
     "name": "stdout",
     "output_type": "stream",
     "text": [
      "Job <474278> is being terminated\n",
      "Job <474281> is being terminated\n",
      "Job <474280> is being terminated\n",
      "Job <474279> is being terminated\n",
      "Job <474277> is being terminated\n",
      "Job <474282> is being terminated\n",
      "Job <474283> is being terminated\n",
      "Job <474284> is being terminated\n",
      "Job <474285> is being terminated\n",
      "Job <474286> is being terminated\n",
      "Job <474287> is being terminated\n",
      "Job <474288> is being terminated\n",
      "Job <474289> is being terminated\n",
      "Job <474290> is being terminated\n",
      "Job <474291> is being terminated\n",
      "Job <474292> is being terminated\n",
      "Job <474293> is being terminated\n",
      "Job <474294> is being terminated\n",
      "Job <474297> is being terminated\n",
      "Job <474301> is being terminated\n",
      "Job <474304> is being terminated\n",
      "Job <474308> is being terminated\n",
      "Job <474309> is being terminated\n",
      "Job <474310> is being terminated\n",
      "Job <474311> is being terminated\n",
      "Job <474312> is being terminated\n",
      "Job <474313> is being terminated\n",
      "Job <474314> is being terminated\n",
      "Job <474315> is being terminated\n",
      "Job <474316> is being terminated\n"
     ]
    }
   ],
   "source": [
    "# !bkill -g /combigwas-interp 0"
   ]
  },
  {
   "cell_type": "code",
   "execution_count": null,
   "id": "eafbc68d-162b-4b7e-b8b8-7865adcbfaf1",
   "metadata": {},
   "outputs": [],
   "source": [
    "# 2 pairs\n",
    "# I83 only\n",
    "# DNN only\n",
    "# None\n",
    "# 1e-8, 1e-7, 1e-6\n",
    "# 72\n",
    "# X does not change between jobs\n",
    "get_simulated_command = lambda email, network, pheno, threshold, max_samples, a1, a2:f\"bsub -g /combigwas-interp -q corradin -u '{email}' -J {pheno}_{threshold}_{max_samples} /lab/corradin_biobank/FOR_AN/combinatorial_GWAS/.venv/bin/python  /lab/corradin_biobank/FOR_AN/combinatorial_GWAS/notebooks/neural_network_training/simulated.py --phenotypes {pheno} --thresholds {threshold} --pair {a1} {a2} --create-test-output -m {max_samples} -r 42 --network {network}\""
   ]
  },
  {
   "cell_type": "code",
   "execution_count": null,
   "id": "aea70d49-c590-462b-b19a-14f7f8b45297",
   "metadata": {},
   "outputs": [
    {
     "name": "stdout",
     "output_type": "stream",
     "text": [
      "Job <1535218> is submitted to queue <corradin>.\n",
      "Job <1535219> is submitted to queue <corradin>.\n",
      "Job <1535220> is submitted to queue <corradin>.\n",
      "Job <1535221> is submitted to queue <corradin>.\n",
      "Job <1535222> is submitted to queue <corradin>.\n",
      "Job <1535223> is submitted to queue <corradin>.\n",
      "Job <1535224> is submitted to queue <corradin>.\n",
      "Job <1535225> is submitted to queue <corradin>.\n",
      "Job <1535226> is submitted to queue <corradin>.\n",
      "Job <1535227> is submitted to queue <corradin>.\n",
      "Job <1535228> is submitted to queue <corradin>.\n",
      "Job <1535229> is submitted to queue <corradin>.\n",
      "Job <1535230> is submitted to queue <corradin>.\n",
      "Job <1535231> is submitted to queue <corradin>.\n",
      "Job <1535232> is submitted to queue <corradin>.\n",
      "Job <1535233> is submitted to queue <corradin>.\n",
      "Job <1535234> is submitted to queue <corradin>.\n",
      "Job <1535235> is submitted to queue <corradin>.\n"
     ]
    }
   ],
   "source": [
    "for dt in ['4_29_2021']:\n",
    "    for nt in ['dnn']:\n",
    "        for p in ['I83']:\n",
    "            for t in [1e-8, 1e-7, 1e-6]:\n",
    "                for m in [100_000, 300_000, 500_000]:\n",
    "                    for pair in [['6:134911816_G_A', '6:26118570_T_C'], ['6:26118570_T_C', '1:118359365_G_A']]:\n",
    "                        cmm = get_simulated_command('premc@mit.edu', nt, p, t, m, *pair)\n",
    "                        !{cmm}\n",
    "# for nt in ['dnn']:\n",
    "#     for p in ['I83']:\n",
    "#         for t in [8]:\n",
    "#             for m in [1000]:\n",
    "#                 for pair in [['6:134911816_G_A', '6:26118570_T_C']]:\n",
    "#                     for q in range(1):\n",
    "#                         cmm = get_simulated_command('premc@mit.edu', nt, 'I83', 1e-8, 1000, *pair, q)\n",
    "#                         print(cmm)\n",
    "#                         !{cmm}"
   ]
  },
  {
   "cell_type": "code",
   "execution_count": null,
   "id": "7749927b-8235-45f6-ba50-30f4384a51bc",
   "metadata": {},
   "outputs": [
    {
     "name": "stdout",
     "output_type": "stream",
     "text": [
      "Job <1529796> is not found\n"
     ]
    }
   ],
   "source": [
    "# !bpeek 1529796"
   ]
  },
  {
   "cell_type": "code",
   "execution_count": null,
   "id": "36d8af90-eb85-4ba9-8702-9a588ccfeed6",
   "metadata": {},
   "outputs": [
    {
     "name": "stdout",
     "output_type": "stream",
     "text": [
      "Job <1535118> is being terminated\n",
      "Job <1535111> is being terminated\n",
      "Job <1535115> is being terminated\n",
      "Job <1535119> is being terminated\n",
      "Job <1535109> is being terminated\n",
      "Job <1535110> is being terminated\n",
      "Job <1535112> is being terminated\n",
      "Job <1535116> is being terminated\n",
      "Job <1535113> is being terminated\n",
      "Job <1535114> is being terminated\n",
      "Job <1535117> is being terminated\n",
      "Job <1535125> is being terminated\n",
      "Job <1535123> is being terminated\n",
      "Job <1535122> is being terminated\n",
      "Job <1535126> is being terminated\n",
      "Job <1535124> is being terminated\n",
      "Job <1535121> is being terminated\n",
      "Job <1535120> is being terminated\n"
     ]
    }
   ],
   "source": [
    "!bkill -g /combigwas-interp 0"
   ]
  },
  {
   "cell_type": "code",
   "execution_count": null,
   "id": "86c6bb44-c288-4576-a50f-97704f3f1d43",
   "metadata": {},
   "outputs": [],
   "source": [
    "lreg = lambda email, networks, dates, pheno, thresholds, max_samples: f\"bsub -g /combigwas-interp -q corradin -u '{email}' -J interp_{get_name(networks, dates, pheno, thresholds, max_samples)} /lab/corradin_biobank/FOR_AN/combinatorial_GWAS/.venv/bin/python /lab/corradin_biobank/FOR_AN/combinatorial_GWAS/notebooks/neural_network_training/lr.py -n {join(networks, ' ')} -d {join(dates, ' ')} -p {join(pheno, ' ')} -t {join(thresholds, ' ')} -m {join(max_samples, ' ')}\""
   ]
  },
  {
   "cell_type": "code",
   "execution_count": null,
   "id": "fde7bbdb-32e9-4e9c-a64d-cffc7746e279",
   "metadata": {},
   "outputs": [
    {
     "name": "stdout",
     "output_type": "stream",
     "text": [
      "bsub -g /combigwas-interp -q corradin -u 'pluthy@mit.edu' -J interp_networks__dnn_cnn__dates__4_29_2021__phenotypes__I83_I25_G56_N81_M16_M17_I48_C44_K80_I21__thresholds__6_7_8__max_samples__1000_10000_100000_300000_500000 /lab/corradin_biobank/FOR_AN/combinatorial_GWAS/.venv/bin/python /lab/corradin_biobank/FOR_AN/combinatorial_GWAS/notebooks/neural_network_training/lr.py -n dnn cnn -d 4_29_2021 -p I83 I25 G56 N81 M16 M17 I48 C44 K80 I21 -t 6 7 8 -m 1000 10000 100000 300000 500000\n"
     ]
    }
   ],
   "source": [
    "print(lreg(\"pluthy@mit.edu\", ['dnn', 'cnn'], ['4_29_2021'], ['I83', 'I25', 'G56', 'N81', 'M16', 'M17', 'I48', 'C44', 'K80', 'I21'], [6, 7, 8], [1000, 10_000, 100_000, 300_000, 500_000]))"
   ]
  },
  {
   "cell_type": "code",
   "execution_count": null,
   "id": "a516ff43-3dbb-424a-9132-33f32cedf90e",
   "metadata": {},
   "outputs": [
    {
     "name": "stdout",
     "output_type": "stream",
     "text": [
      "Job <1529792> is submitted to queue <corradin>.\n"
     ]
    }
   ],
   "source": [
    "####!{lreg(\"pluthy@mit.edu\", ['dnn'], ['4_29_2021_actual'], ['I83'], [8], [300_000])}"
   ]
  },
  {
   "cell_type": "code",
   "execution_count": null,
   "id": "d5c098e4-a98a-4c77-b468-bc5552c5bf30",
   "metadata": {},
   "outputs": [
    {
     "data": {
      "text/plain": [
       "array([1, 1, 1, 1, 1, 1, 1, 1, 1, 1, 1, 0, 1, 1, 1, 1, 1, 1, 1, 1, 0, 1,\n",
       "       1, 1, 1, 1, 0, 1, 1, 1, 0, 1, 1, 1, 1, 1, 1, 1, 1, 1, 1, 1, 1, 1,\n",
       "       1, 1, 1, 1, 0, 1, 1, 1, 1, 1, 1, 1, 1, 1, 1, 1, 1, 1, 1, 0, 1, 1,\n",
       "       1, 1, 1, 1, 0, 1, 1, 1, 1, 1, 1, 1, 1, 0, 1, 1, 1, 1, 1, 1, 1, 1,\n",
       "       0, 1, 1, 1, 1, 1, 0, 1, 1, 1, 1, 1, 1, 1, 1, 0, 1, 1, 1, 1, 1, 1,\n",
       "       1, 1, 1, 1, 1, 0, 1, 1, 0, 1, 1, 0, 0, 1, 1, 1, 1, 1, 1, 1, 1, 1,\n",
       "       1, 1, 1, 0, 1, 1, 1, 1, 1, 1, 0, 1, 1, 1, 1, 1, 1, 0, 1, 1, 1, 1,\n",
       "       0, 1, 1, 1, 1, 1, 0, 1, 1, 1, 1, 1, 1, 1, 0, 1, 1, 1, 1, 1, 1, 1,\n",
       "       1, 1, 1, 0, 1, 1, 1, 1, 1, 1, 1, 1, 1, 1, 1, 1, 1, 1, 1, 1, 1, 1,\n",
       "       0, 0, 1, 1, 0, 1, 1, 1, 1, 1, 1, 1, 0, 1, 1, 1, 1, 1, 1, 1, 1, 1,\n",
       "       1, 1, 1, 1, 1, 1, 1, 1, 1, 1, 1, 1, 1, 1, 1, 1, 1, 0, 1, 1, 0, 1,\n",
       "       1, 1, 1, 1, 0, 1, 1, 1, 1, 0, 0, 1, 1, 0, 1, 1, 0, 1, 0, 1, 1, 0,\n",
       "       1, 1, 1, 1, 1, 1, 1, 1, 1, 1, 0, 0, 0, 1, 1, 1, 1, 1, 0, 1, 1, 1,\n",
       "       1, 1, 0, 0, 1, 1, 0, 1, 1, 1, 0, 0, 1, 1, 1, 1, 1, 1, 1, 1, 1, 1,\n",
       "       1, 1, 1, 1, 1, 1, 1, 1, 0, 0, 1, 1, 1, 1, 1, 1, 0, 1, 1, 1, 1, 1,\n",
       "       1, 1, 0, 1, 1, 1, 1, 1, 1, 1, 1, 1, 1, 1, 1, 0, 1, 1, 1, 1, 1, 1,\n",
       "       1, 1, 1, 1, 1, 1, 1, 1, 1, 1, 1, 1, 1, 0, 1, 1, 1, 1, 0, 1, 1, 1,\n",
       "       1, 1, 0, 1, 1, 1, 1, 1, 1, 1, 1, 1, 1, 1, 1, 1, 0, 1, 1, 1, 1, 0,\n",
       "       1, 1, 1, 0, 0, 0, 1, 1, 1, 0, 1, 1, 1, 1, 1, 1, 1, 1, 0, 0, 0, 1,\n",
       "       1, 1, 1, 1, 1, 1, 1, 1, 1, 0, 0, 1, 1, 1, 1, 1, 1, 1, 0, 0, 1, 1,\n",
       "       1, 0, 1, 1, 1, 1, 1, 0, 1, 1, 0, 1, 1, 1, 1, 1, 1, 1, 1, 1, 1, 1,\n",
       "       1, 1, 1, 1, 1, 1, 1, 0, 1, 1, 1, 0, 1, 1, 1, 1, 1, 1, 1, 1, 1, 1,\n",
       "       1, 0, 1, 1, 1, 1, 1, 1, 1, 1, 1, 1, 1, 1, 1, 1, 1, 1, 1, 1, 1, 1,\n",
       "       1, 1, 1, 1, 1, 1, 1, 1, 1, 1, 1, 1, 0, 1, 1, 1, 1, 1, 1, 1, 1, 0,\n",
       "       1, 1, 0, 1, 1, 1, 1, 0, 1, 1, 1, 0, 1, 1, 1, 1, 1, 1, 1, 1, 1, 1,\n",
       "       1, 1, 1, 1, 1, 1, 1, 1, 1, 1, 1, 1, 1, 1, 1, 1, 1, 1, 0, 1, 1, 1,\n",
       "       1, 1, 1, 1, 1, 0, 1, 1, 1, 1, 1, 1, 1, 1, 1, 1, 1, 0, 0, 1, 1, 1,\n",
       "       1, 1, 0, 1, 1, 1, 1, 1, 1, 1, 1, 1, 1, 1, 1, 1, 1, 1, 1, 1, 1, 1,\n",
       "       0, 1, 1, 1, 1, 0, 1, 1, 1, 1, 1, 1, 1, 1, 1, 1, 1, 1, 1, 1, 1, 1,\n",
       "       1, 1, 1, 1, 1, 1, 1, 1, 1, 1, 1, 1, 1, 1, 0, 1, 0, 1, 1, 1, 1, 1,\n",
       "       1, 1, 0, 1, 1, 1, 1, 1, 1, 1, 0, 1, 1, 0, 0, 1, 0, 1, 1, 1, 1, 1,\n",
       "       0, 1, 1, 1, 1, 1, 1, 0, 1, 1, 0, 1, 1, 1, 0, 1, 1, 1, 1, 0, 0, 0,\n",
       "       1, 0, 1, 1, 1, 0, 1, 1, 1, 1, 1, 1, 1, 1, 0, 1, 0, 1, 1, 0, 0, 1,\n",
       "       1, 0, 1, 1, 1, 1, 1, 1, 1, 1, 1, 1, 1, 0, 1, 1, 1, 1, 1, 1, 1, 1,\n",
       "       1, 1, 1, 1, 1, 1, 1, 1, 1, 1, 1, 0, 1, 1, 1, 1, 1, 1, 1, 1, 0, 1,\n",
       "       1, 0, 1, 1, 1, 1, 1, 1, 1, 1, 0, 1, 1, 1, 1, 1, 1, 1, 1, 1, 1, 0,\n",
       "       1, 1, 1, 1, 1, 1, 1, 1, 1, 1, 1, 1, 1, 1, 1, 1, 1, 1, 1, 1, 1, 1,\n",
       "       1, 1, 1, 1, 1, 0, 1, 1, 1, 1, 0, 1, 1, 1, 1, 1, 1, 1, 1, 1, 1, 1,\n",
       "       1, 0, 1, 1, 1, 1, 0, 1, 0, 1, 0, 1, 1, 1, 1, 1, 1, 0, 0, 1, 1, 1,\n",
       "       1, 1, 1, 1, 1, 0, 1, 1, 0, 1, 1, 1, 1, 1, 1, 1, 1, 1, 1, 0, 1, 1,\n",
       "       0, 1, 1, 1, 1, 1, 1, 1, 1, 1, 1, 1, 1, 1, 1, 0, 0, 1, 1, 1, 1, 1,\n",
       "       0, 0, 0, 1, 0, 0, 1, 1, 1, 1, 0, 0, 1, 1, 1, 1, 1, 1, 1, 1, 1, 1,\n",
       "       1, 1, 1, 1, 1, 1, 1, 1, 0, 1, 0, 1, 0, 1, 1, 1, 1, 1, 1, 1, 1, 1,\n",
       "       0, 1, 1, 1, 1, 1, 1, 1, 1, 1, 0, 1, 1, 1, 1, 1, 1, 1, 1, 1, 1, 1,\n",
       "       0, 1, 1, 1, 0, 1, 1, 1, 1, 0, 1, 0, 1, 1, 1, 1, 0, 1, 1, 0, 1, 1,\n",
       "       1, 1, 1, 1, 1, 0, 1, 1, 1, 1])"
      ]
     },
     "execution_count": null,
     "metadata": {},
     "output_type": "execute_result"
    }
   ],
   "source": [
    "import pickle\n",
    "with open('/lab/corradin_biobank/FOR_AN/combinatorial_GWAS/data/07_model_output/dnn/4_29_2021/train_cache/phenotype_I83_threshold_1e-08_max_samples_1000_dataset_train_0_y_ (not (`6:134911816_G_A` == 0.0)) and (not (`6:26118570_T_C` == 2.0)).cache', 'rb') as f:\n",
    "    thing = pickle.load(f)\n",
    "thing.values"
   ]
  }
 ],
 "metadata": {
  "kernelspec": {
   "display_name": "Python 3",
   "language": "python",
   "name": "python3"
  }
 },
 "nbformat": 4,
 "nbformat_minor": 5
}
