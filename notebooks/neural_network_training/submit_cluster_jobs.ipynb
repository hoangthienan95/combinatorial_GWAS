{
 "cells": [
  {
   "cell_type": "code",
   "execution_count": null,
   "id": "8f0d41e7-7984-4616-9e58-7efc33f59e3a",
   "metadata": {},
   "outputs": [
    {
     "name": "stderr",
     "output_type": "stream",
     "text": [
      "/lab/corradin_biobank/FOR_AN/combinatorial_GWAS/.venv/lib/python3.8/site-packages/kedro/extras/datasets/pandas/csv_dataset.py:158: ParserWarning: Falling back to the 'python' engine because the 'c' engine does not support regex separators (separators > 1 char and different from '\\s+' are interpreted as regex); you can avoid this warning by specifying engine='python'.\n",
      "  return pd.read_csv(fs_file, **self._load_args)\n",
      "WARNING:root:Loading ICD phenotype matrix, this might take a while\n",
      "WARNING:root:Finished loading ICD10 matrix\n"
     ]
    }
   ],
   "source": [
    "from combinatorial_gwas.phenotypes import quality_heritability_phenos"
   ]
  },
  {
   "cell_type": "code",
   "execution_count": null,
   "id": "de525bb8-9c2e-468a-af00-4ac02d8dccd7",
   "metadata": {},
   "outputs": [],
   "source": [
    "quality_heritability_phenos.head() #27 significantly heritable phenotypes"
   ]
  },
  {
   "cell_type": "code",
   "execution_count": null,
   "id": "4261abbb-a8ae-4a3c-8774-dd9b773a8d2b",
   "metadata": {},
   "outputs": [],
   "source": [
    "display_cols = ['description', 'h2_liability', 'h2_sig', 'confidence', 'n_cases', 'n_controls', 'prevalence']\n"
   ]
  },
  {
   "cell_type": "code",
   "execution_count": null,
   "id": "4203a700-f126-49af-9797-56aab5c87170",
   "metadata": {},
   "outputs": [],
   "source": [
    "!bgadd /combigwas"
   ]
  },
  {
   "cell_type": "code",
   "execution_count": null,
   "id": "7ca33f35-ec35-4c70-a311-acbb88a2fc06",
   "metadata": {},
   "outputs": [],
   "source": [
    "!bgmod -L 30 /combigwas"
   ]
  },
  {
   "cell_type": "code",
   "execution_count": null,
   "id": "6af2a2ba-ef0b-4616-807c-a6b98743bdf5",
   "metadata": {},
   "outputs": [],
   "source": [
    "from functools import partial\n",
    "\n",
    "get_command = partial(\"bsub -g /combigwas -q corradin -u '{email}' -J {pheno}_{threshold}_{max_samples} /lab/corradin_biobank/FOR_AN/combinatorial_GWAS/.venv/bin/python  /lab/corradin_biobank/FOR_AN/combinatorial_GWAS/notebooks/neural_network_training/nn.py {pheno} --network {nn} --thresholds {threshold} --create-test-output -m {max_samples} -r 42\".format)"
   ]
  },
  {
   "cell_type": "code",
   "execution_count": null,
   "id": "78d8b7ba-9f30-4cb9-b351-345dc01d1b3f",
   "metadata": {},
   "outputs": [],
   "source": [
    "email = \"anhoang@wi.mit.edu\""
   ]
  },
  {
   "cell_type": "markdown",
   "id": "0e3b3baa-48c1-4622-a46f-d45c18d90ca2",
   "metadata": {},
   "source": [
    "## Check that the command is correct"
   ]
  },
  {
   "cell_type": "code",
   "execution_count": null,
   "id": "04c09061-d1f6-430f-becf-1b33e4303201",
   "metadata": {},
   "outputs": [
    {
     "data": {
      "text/plain": [
       "\"bsub -q corradin -u 'anhoang@wi.mit.edu' -J I83_1e-05_100000 /lab/corradin_biobank/FOR_AN/combinatorial_GWAS/.venv/bin/python  /lab/corradin_biobank/FOR_AN/combinatorial_GWAS/notebooks/neural_network_training/nn.py I83 --thresholds 1e-05 --create-test-output -m 100000 \""
      ]
     },
     "execution_count": null,
     "metadata": {},
     "output_type": "execute_result"
    }
   ],
   "source": [
    "get_command(pheno = \"I83\", threshold = 1e-5, max_samples = 100_000, email = email)"
   ]
  },
  {
   "cell_type": "markdown",
   "id": "92b1a83d-7aa0-4612-8f36-6ca0ff1a60e8",
   "metadata": {},
   "source": [
    "## Execute the command"
   ]
  },
  {
   "cell_type": "code",
   "execution_count": null,
   "id": "bb01c988-f454-43d9-918f-ee693a9dc25b",
   "metadata": {},
   "outputs": [
    {
     "name": "stdout",
     "output_type": "stream",
     "text": [
      "Job <9642219> is submitted to queue <corradin>.\n"
     ]
    }
   ],
   "source": [
    "!{get_command(pheno = \"I83\", threshold = 1e-5, max_samples = 100_000)}"
   ]
  },
  {
   "cell_type": "markdown",
   "id": "ae5edf8a-107a-4cec-b7e6-31f95f98273b",
   "metadata": {},
   "source": [
    "## Execute in a loop"
   ]
  },
  {
   "cell_type": "code",
   "execution_count": null,
   "id": "89a72332-10f6-4fe6-afd5-bdc8bbc8a200",
   "metadata": {},
   "outputs": [
    {
     "name": "stdout",
     "output_type": "stream",
     "text": [
      "Job <9642232> is submitted to queue <corradin>.\n",
      "Job <9642233> is submitted to queue <corradin>.\n",
      "Job <9642234> is submitted to queue <corradin>.\n"
     ]
    }
   ],
   "source": [
    "for pheno in quality_heritability_phenos.sort_values(\"h2_liability\", ascending=False).index:\n",
    "    for threshold in [1e-6, 1e-7, 1e-8]:\n",
    "        for max_samples in [1000, 10_000, 100_000, 300_000, 500_000]:\n",
    "            command = get_command(pheno = pheno, threshold = threshold, max_samples = max_samples, email = email)\n",
    "            !{command}"
   ]
  },
  {
   "cell_type": "code",
   "execution_count": null,
   "id": "b57e9b27-5acf-4a2d-a3e1-442029fa8426",
   "metadata": {},
   "outputs": [
    {
     "name": "stdout",
     "output_type": "stream",
     "text": [
      "Job <9970684> is submitted to queue <corradin>.\n",
      "Job <9970685> is submitted to queue <corradin>.\n",
      "Job <9970686> is submitted to queue <corradin>.\n",
      "Job <9970688> is submitted to queue <corradin>.\n",
      "Job <9970689> is submitted to queue <corradin>.\n"
     ]
    }
   ],
   "source": [
    "email = 'premc@mit.edu'\n",
    "for pheno in ['I83']:\n",
    "    for threshold in [1e-8]:\n",
    "        for max_samples in [1000, 10_000, 100_000, 300_000, 500_000]:\n",
    "            command = get_command(pheno = pheno, threshold = threshold, max_samples = max_samples, email = email, nn='dnn')\n",
    "            !{command}"
   ]
  },
  {
   "cell_type": "code",
   "execution_count": null,
   "id": "20ac22f5-7a30-442a-b836-0f94628adb20",
   "metadata": {},
   "outputs": [],
   "source": [
    "# email = 'premc@mit.edu'\n",
    "# for pheno in ['I83', 'I25', 'G56', 'N81', 'M16', 'M17', 'I48', 'C44', 'K80', 'I21']:\n",
    "#     for network in ['dnn', 'cnn', 'deeper-cnn', 'deeper-dnn']:\n",
    "#         for threshold in [1e-6, 1e-7, 1e-8]:\n",
    "#             for max_samples in [1000, 10_000, 100_000, 300_000, 500_000]:\n",
    "#                 command = get_command(pheno = pheno, threshold = threshold, max_samples = max_samples, email = email, nn=network)\n",
    "#                 !{command}\n",
    "\n",
    "## Check the status of jobs"
   ]
  },
  {
   "cell_type": "code",
   "execution_count": null,
   "id": "4cd45f6b-e042-47fd-867b-5af5aed829f9",
   "metadata": {},
   "outputs": [
    {
     "name": "stdout",
     "output_type": "stream",
     "text": [
      "JOBID   USER    STAT  QUEUE      FROM_HOST   EXEC_HOST   JOB_NAME   SUBMIT_TIME\n",
      "1529867 anhoang RUN   corradin   thyroxine   c4b7        I83_1e-08_1000 May 11 23:44\n"
     ]
    }
   ],
   "source": [
    "!bjobs -w -g /combigwas"
   ]
  },
  {
   "cell_type": "code",
   "execution_count": null,
   "id": "cc6f4574-1128-4d01-90cd-743270d6ebf9",
   "metadata": {},
   "outputs": [],
   "source": [
    "#!bpeek 205135"
   ]
  },
  {
   "cell_type": "code",
   "execution_count": null,
   "id": "7e883f1b-7883-4153-a866-8e82b8c9717c",
   "metadata": {},
   "outputs": [],
   "source": [
    "# jobs = [475127, 475128, 475129, 475130, 475131, 475132, 475133, 475134, 475135, 475136, 475137, 475138, 475139, 475140, 475141, 475143, 475146, 475150, 475153, 475156, 475157, 475158, 475159, 475160, 475161, 475162, 475163, 475164, 475165, 475166]\n",
    "# kills = [f'bkill {job}' for job in jobs]\n",
    "# for command in kills:\n",
    "# #     !{command}\n",
    "#     pass"
   ]
  },
  {
   "cell_type": "code",
   "execution_count": null,
   "id": "6e0b979d-9492-4b99-ae1b-4fa05eca64fc",
   "metadata": {},
   "outputs": [
    {
     "name": "stdout",
     "output_type": "stream",
     "text": [
      "Job group </combigwas-interp> was added.\n"
     ]
    }
   ],
   "source": [
    "!bgadd /combigwas-interp"
   ]
  },
  {
   "cell_type": "code",
   "execution_count": null,
   "id": "72f98060-8345-4a34-be76-37bd7043c015",
   "metadata": {},
   "outputs": [
    {
     "name": "stdout",
     "output_type": "stream",
     "text": [
      "Job group /combigwas-interp is modified.\n"
     ]
    }
   ],
   "source": [
    "!bgmod -L 30 /combigwas-interp"
   ]
  },
  {
   "cell_type": "code",
   "execution_count": null,
   "id": "d12d611a-e210-4ee9-a5a0-9cfe973d319e",
   "metadata": {},
   "outputs": [],
   "source": [
    "# email = 'premc@mit.edu'\n",
    "# for pheno in ['I83', 'I25', 'G56', 'N81', 'M16', 'M17', 'I48', 'C44', 'K80', 'I21']:\n",
    "#     for network in ['dnn', 'cnn', 'deeper-cnn', 'deeper-dnn']:\n",
    "#         for threshold in [1e-6, 1e-7, 1e-8]:\n",
    "#             for max_samples in [1000, 10_000, 100_000, 300_000, 500_000]:\n",
    "#                 command = get_command(pheno = pheno, threshold = threshold, max_samples = max_samples, email = email, nn=network)\n",
    "#                 !{command}\n",
    "\n",
    "# get_command = partial(\"bsub -g /combigwas -q corradin -u '{email}' -J {pheno}_{threshold}_{max_samples} /lab/corradin_biobank/FOR_AN/combinatorial_GWAS/.venv/bin/python  /lab/corradin_biobank/FOR_AN/combinatorial_GWAS/notebooks/neural_network_training/nn.py {pheno} --network {nn} --thresholds {threshold} --create-test-output -m {max_samples} -r 42\".format)\n",
    "\n",
    "\n",
    "def join(ls, sep='_'):\n",
    "    return sep.join(str(l) for l in ls)\n",
    "\n",
    "def get_name(networks, dates, phenotypes, thresholds, max_samples):\n",
    "    return f\"networks__{join(networks)}__dates__{join(dates)}__phenotypes__{join(phenotypes)}__thresholds__{join(thresholds)}__max_samples__{join(max_samples)}\"\n",
    "\n",
    "interp = lambda email, networks, dates, pheno, thresholds, max_samples: f\"bsub -g /combigwas-interp -q corradin -u '{email}' -J interp_{get_name(networks, dates, pheno, thresholds, max_samples)} /lab/corradin_biobank/FOR_AN/combinatorial_GWAS/.venv/bin/python /lab/corradin_biobank/FOR_AN/combinatorial_GWAS/notebooks/neural_network_training/interp.py -n {join(networks, ' ')} -d {join(dates, ' ')} -p {join(pheno, ' ')} -t {join(thresholds, ' ')} -m {join(max_samples, ' ')}\""
   ]
  },
  {
   "cell_type": "code",
   "execution_count": null,
   "id": "ec3cf191-4676-4aaa-8d29-5aa28a043c7f",
   "metadata": {},
   "outputs": [
    {
     "name": "stdout",
     "output_type": "stream",
     "text": [
      "bsub -g /combigwas-interp -q corradin -u 'premc@mit.edu' -J interp_networks__dnn_cnn__dates__4_29_2021__phenotypes__I83_I25_G56_N81_M16_M17_I48_C44_K80_I21__thresholds__6_7_8__max_samples__1000_10000_100000_300000_500000 /lab/corradin_biobank/FOR_AN/combinatorial_GWAS/.venv/bin/python /lab/corradin_biobank/FOR_AN/combinatorial_GWAS/notebooks/neural_network_training/interp.py -n dnn cnn -d 4_29_2021 -p I83 I25 G56 N81 M16 M17 I48 C44 K80 I21 -t 6 7 8 -m 1000 10000 100000 300000 500000\n"
     ]
    }
   ],
   "source": [
    "print(interp(email, ['dnn', 'cnn'], ['4_29_2021'], ['I83', 'I25', 'G56', 'N81', 'M16', 'M17', 'I48', 'C44', 'K80', 'I21'], [6, 7, 8], [1000, 10_000, 100_000, 300_000, 500_000]))"
   ]
  },
  {
   "cell_type": "code",
   "execution_count": null,
   "id": "67c1fc71-597f-406c-9984-fd6306189d11",
   "metadata": {},
   "outputs": [],
   "source": [
    "# email = \"premc@mit.edu\"\n",
    "# for dt in ['4_29_2021']:\n",
    "#     for nt in ['dnn', 'cnn']:\n",
    "#         for t in [6, 7, 8]:\n",
    "#             for m in [1000, 10_000, 100_000, 300_000, 500_000]:\n",
    "#                 cmd = interp(email, [nt], [dt], ['I83', 'I25', 'G56', 'N81', 'M16', 'M17', 'I48', 'C44', 'K80', 'I21'], [t], [m])\n",
    "# #                 !{cmd}"
   ]
  },
  {
   "cell_type": "code",
   "execution_count": null,
   "id": "0e8ef64c-0121-4de7-a040-4163e7c76db2",
   "metadata": {},
   "outputs": [
    {
     "name": "stdout",
     "output_type": "stream",
     "text": [
      "No job found in job group /combigwas-interp\n"
     ]
    }
   ],
   "source": [
    "!bjobs -w -g /combigwas-interp"
   ]
  },
  {
   "cell_type": "code",
   "execution_count": null,
   "id": "cfa9be9a-c464-47ce-8849-39437ba12731",
   "metadata": {},
   "outputs": [
    {
     "name": "stdout",
     "output_type": "stream",
     "text": [
      "Job <1529868> is being terminated\n",
      "Job <1529867> is being terminated\n"
     ]
    }
   ],
   "source": [
    "# !bkill -g /combigwas 0"
   ]
  },
  {
   "cell_type": "code",
   "execution_count": null,
   "id": "eafbc68d-162b-4b7e-b8b8-7865adcbfaf1",
   "metadata": {},
   "outputs": [],
   "source": [
    "# 2 pairs\n",
    "# I83 only\n",
    "# DNN only\n",
    "# None\n",
    "# 1e-8, 1e-7, 1e-6\n",
    "# 72\n",
    "# X does not change between jobs\n",
    "get_simulated_command = lambda email, pheno, threshold, max_samples, a1, a2:f\"bsub -g /combigwas -q corradin -u '{email}' -J {pheno}_{threshold}_{max_samples} /lab/corradin_biobank/FOR_AN/combinatorial_GWAS/.venv/bin/python  /lab/corradin_biobank/FOR_AN/combinatorial_GWAS/notebooks/neural_network_training/simulated.py --phenotypes {pheno} --thresholds {threshold} --pair {a1} {a2} --create-test-output -m {max_samples} -r 42\""
   ]
  },
  {
   "cell_type": "code",
   "execution_count": null,
   "id": "aea70d49-c590-462b-b19a-14f7f8b45297",
   "metadata": {},
   "outputs": [
    {
     "name": "stdout",
     "output_type": "stream",
     "text": [
      "Job <1526811> is submitted to queue <corradin>.\n"
     ]
    }
   ],
   "source": [
    "!{get_simulated_command('premc@mit.edu', 'I83', 1e-8, 300000, *['6:134911816_G_A', '6:26118570_T_C'])}"
   ]
  },
  {
   "cell_type": "code",
   "execution_count": null,
   "id": "7749927b-8235-45f6-ba50-30f4384a51bc",
   "metadata": {},
   "outputs": [
    {
     "name": "stdout",
     "output_type": "stream",
     "text": [
      "Job <1526811> is not found\n"
     ]
    }
   ],
   "source": [
    "!bpeek 1526811"
   ]
  },
  {
   "cell_type": "code",
   "execution_count": null,
   "id": "36d8af90-eb85-4ba9-8702-9a588ccfeed6",
   "metadata": {},
   "outputs": [
    {
     "name": "stdout",
     "output_type": "stream",
     "text": [
      "Job <1529871> is being terminated\n"
     ]
    }
   ],
   "source": [
    "# !bkill 1529871"
   ]
  },
  {
   "cell_type": "code",
   "execution_count": null,
   "id": "86c6bb44-c288-4576-a50f-97704f3f1d43",
   "metadata": {},
   "outputs": [],
   "source": [
    "lreg = lambda email, networks, dates, pheno, thresholds, max_samples: f\"bsub -g /combigwas-interp -q corradin -u '{email}' -J interp_{get_name(networks, dates, pheno, thresholds, max_samples)} /lab/corradin_biobank/FOR_AN/combinatorial_GWAS/.venv/bin/python /lab/corradin_biobank/FOR_AN/combinatorial_GWAS/notebooks/neural_network_training/lr.py -n {join(networks, ' ')} -d {join(dates, ' ')} -p {join(pheno, ' ')} -t {join(thresholds, ' ')} -m {join(max_samples, ' ')}\""
   ]
  },
  {
   "cell_type": "code",
   "execution_count": null,
   "id": "fde7bbdb-32e9-4e9c-a64d-cffc7746e279",
   "metadata": {},
   "outputs": [],
   "source": [
    "!{lreg(\"premc@mit.edu\", ['dnn'], ['4_29_2021'], ['I83'], [6], [1000, 10_000, 100_000, 300_000, 500_000])}"
   ]
  },
  {
   "cell_type": "code",
   "execution_count": null,
   "id": "80109fd1-6e5b-4093-894c-14fe70cae3da",
   "metadata": {},
   "outputs": [
    {
     "name": "stdout",
     "output_type": "stream",
     "text": [
      "Job <1541767> is submitted to queue <corradin>.\n"
     ]
    }
   ],
   "source": [
    "!{lreg(\"pluthy@mit.edu\", ['dnn'], ['4_29_2021'], ['I83'], [8], [1000])}"
   ]
  },
  {
   "cell_type": "code",
   "execution_count": null,
   "id": "d5c098e4-a98a-4c77-b468-bc5552c5bf30",
   "metadata": {},
   "outputs": [],
   "source": []
  }
 ],
 "metadata": {
  "kernelspec": {
   "display_name": "Python 3",
   "language": "python",
   "name": "python3"
  }
 },
 "nbformat": 4,
 "nbformat_minor": 5
}
