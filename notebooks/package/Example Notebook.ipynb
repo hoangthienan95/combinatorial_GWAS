{
 "cells": [
  {
   "cell_type": "markdown",
   "metadata": {},
   "source": [
    "## Example using Kedro's DataCatalog to configure and explore data sources"
   ]
  },
  {
   "cell_type": "code",
   "execution_count": null,
   "metadata": {},
   "outputs": [
    {
     "name": "stdout",
     "output_type": "stream",
     "text": [
      "   sepal_length  sepal_width  petal_length  petal_width species\n",
      "0           5.1          3.5           1.4          0.2  setosa\n",
      "1           4.9          3.0           1.4          0.2  setosa\n",
      "2           4.7          3.2           1.3          0.2  setosa\n",
      "3           4.6          3.1           1.5          0.2  setosa\n",
      "4           5.0          3.6           1.4          0.2  setosa\n"
     ]
    }
   ],
   "source": [
    "from kedro.config import ConfigLoader\n",
    "from kedro.io import DataCatalog\n",
    "\n",
    "# Initialise a ConfigLoader\n",
    "conf_loader = ConfigLoader(\"conf/base\")\n",
    "\n",
    "# Load the data catalog configuration from catalog.yml\n",
    "conf_catalog = conf_loader.get(\"catalog.yml\")\n",
    "\n",
    "# Create the DataCatalog instance from the configuration\n",
    "catalog = DataCatalog.from_config(conf_catalog)\n",
    "\n",
    "# Load the dataset and print the output\n",
    "df = catalog.load(\"example_iris_data\")\n",
    "print(df.head())\n"
   ]
  },
  {
   "cell_type": "markdown",
   "metadata": {},
   "source": [
    "Congratulations! You have been able to instantiate a DataCatalog and load a dataset with Kedro. To see more examples on how to use the DataCatalog and other supported datasets, please visit our [documentation](https://kedro.readthedocs.io/en/latest/05_data/01_data_catalog.html).\n"
   ]
  }
 ],
 "metadata": {
  "kernelspec": {
   "display_name": "Python 3",
   "language": "python",
   "name": "python3"
  }
 },
 "nbformat": 4,
 "nbformat_minor": 4
}
