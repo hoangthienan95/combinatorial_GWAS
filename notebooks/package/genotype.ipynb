{
 "cells": [
  {
   "cell_type": "code",
   "execution_count": null,
   "id": "213fbf76-e641-4635-a99c-9765f2dcfe4f",
   "metadata": {},
   "outputs": [],
   "source": [
    "#default_exp genotype"
   ]
  },
  {
   "cell_type": "code",
   "execution_count": null,
   "id": "2e68469f-1206-4032-a97e-c13bd16e6085",
   "metadata": {},
   "outputs": [],
   "source": [
    "#export\n",
    "from combinatorial_gwas.data_catalog import get_catalog, get_config, get_parameters\n",
    "from pydantic import BaseModel\n",
    "import dask.dataframe as dd\n",
    "from dask.delayed import Delayed\n",
    "from bgen_reader import open_bgen, read_bgen\n",
    "import numpy as np\n",
    "import pandas as pd\n",
    "from typing import List, Union\n",
    "from fastcore.meta import delegates\n",
    "import logging"
   ]
  },
  {
   "cell_type": "code",
   "execution_count": null,
   "id": "428a009c-c6f6-4b30-9404-51678df77b05",
   "metadata": {},
   "outputs": [
    {
     "data": {
      "text/plain": [
       "['example_iris_data',\n",
       " 'globals_test',\n",
       " 'disease_summary',\n",
       " 'sample_ids',\n",
       " 'chr_22',\n",
       " 'ICD10_pheno_matrix',\n",
       " 'phenotypes_info_Neale',\n",
       " 'GWAS_results_links_df',\n",
       " 'heritability_trait_level_summary',\n",
       " 'heritability_trait_level_partitioned_z4_sig']"
      ]
     },
     "execution_count": null,
     "metadata": {},
     "output_type": "execute_result"
    }
   ],
   "source": [
    "get_catalog().list()"
   ]
  },
  {
   "cell_type": "code",
   "execution_count": null,
   "id": "4706cf19-f950-4fa7-aea4-821ace26d1c8",
   "metadata": {},
   "outputs": [],
   "source": [
    "sample_ids = get_catalog().load(\"sample_ids\")"
   ]
  },
  {
   "cell_type": "code",
   "execution_count": null,
   "id": "042997e2-51ea-4a11-a718-170d5273d751",
   "metadata": {},
   "outputs": [],
   "source": [
    "#export\n",
    "\n",
    "def get_geno_one_snp(row,  high_lim=0.9, low_lim=0.3, NA_val = np.nan):\n",
    "    geno_1, geno_2, geno_3 = row\n",
    "    homo_ref_cond = (geno_1 >=high_lim) & (geno_2 < low_lim) & (geno_3 < low_lim)\n",
    "    het_cond = (geno_2 >= high_lim) & (geno_1 < low_lim) & (geno_3 < low_lim)\n",
    "    homo_alt_cond = (geno_3 >= high_lim) & (geno_1 < low_lim) & (geno_2 < low_lim)\n",
    "    geno_df =  np.select([homo_ref_cond, het_cond, homo_alt_cond],\n",
    "             [0., 1., 2.],\n",
    "             default = NA_val)\n",
    "    return geno_df\n",
    "\n",
    "def index_search(list_to_search, query_list):\n",
    "    sorter = np.argsort(list_to_search)\n",
    "    index = sorter[np.searchsorted(list_to_search, query_list, sorter=sorter)]\n",
    "    return index"
   ]
  },
  {
   "cell_type": "code",
   "execution_count": null,
   "id": "29fb93ec-76f1-473f-98fc-8e8c0b912c68",
   "metadata": {},
   "outputs": [],
   "source": [
    "#export\n",
    "class BgenFileObject():\n",
    "#     variants: dd.DataFrame\n",
    "#     samples: pd.Series\n",
    "#     genotype: List[Delayed]\n",
    "    bgen_reader_obj: open_bgen\n",
    "    \n",
    "    def __init__(self, bgen_reader_obj):\n",
    "        self.bgen_reader_obj = bgen_reader_obj\n",
    "        self.samples = np.vstack(np.char.split(self.bgen_reader_obj.samples, sep = \" \"))[:,0]\n",
    "    \n",
    "    @property\n",
    "    def ids(self):\n",
    "        return self.bgen_reader_obj.ids\n",
    "    \n",
    "    def __repr__(self):\n",
    "        return str(self.__class__) + f\" {self.samples.shape[0]} samples\"\n",
    "    \n",
    "    def get_variant_index(self,ids=None):\n",
    "        variant_index = index_search(self.ids, ids) if ids is not None else None\n",
    "        return variant_index\n",
    "    \n",
    "    def get_sample_index(self, sample_ids=None):\n",
    "        sample_index = index_search(self.samples, sample_ids) if sample_ids is not None else None\n",
    "        return sample_index\n",
    "    \n",
    "    def get_probs(self, sample_ids=None, variant_ids=None):\n",
    "        variant_index = self.get_variant_index(variant_ids)\n",
    "        sample_index = self.get_sample_index(sample_ids)\n",
    "        \n",
    "        return self.bgen_reader_obj.read((sample_index, variant_index))\n",
    "    \n",
    "    @delegates(get_probs)\n",
    "    def get_geno_each_sample(self,prob_to_geno_func:Union[\"max\", \"stringent\"]= \"stringent\", high_lim=0.9, low_lim=0.3, NA_val=np.nan, one_hot_encoded=True, **kwargs):\n",
    "        probs = self.get_probs(**kwargs)\n",
    "        if prob_to_geno_func == \"max\":\n",
    "            geno = np.nanargmax(probs, axis=2).astype(float)\n",
    "            \n",
    "        elif prob_to_geno_func == \"stringent\":\n",
    "            geno = np.apply_along_axis(get_geno_one_snp, axis=2, arr=probs, high_lim=high_lim, low_lim=low_lim, NA_val=NA_val)\n",
    "        \n",
    "        \n",
    "        geno_no_nan = np.nan_to_num(geno, nan=3).astype(int)\n",
    "        \n",
    "        if one_hot_encoded:\n",
    "            geno = np.identity(4)[geno_no_nan]\n",
    "        return geno\n",
    "            \n",
    "        \n",
    "    def get_allele_ids(self, rsids = None, variant_index = None):\n",
    "        if variant_index is None:\n",
    "            variant_index = self.get_variant_index(rsids)\n",
    "        df = pd.DataFrame([allele_str.split(\",\") for allele_str in self.bgen_reader_obj.allele_ids[variant_index]], columns = [\"allele_1\", \"allele_2\"])\n",
    "        \n",
    "        if rsids is not None:\n",
    "            df.index = rsids\n",
    "        return df\n",
    "    \n",
    "    def get_variant_combinations(self, rsids = None, variant_index = None):\n",
    "        if variant_index is None:\n",
    "            variant_index = np.argwhere(np.isin(self.bgen_reader_obj.rsids, rsids)).reshape(-1,) if rsids is not None else None\n",
    "        geno_df = self.get_allele_ids(rsids, variant_index)\n",
    "        geno_df = get_possible_geno_combinations(geno_df, \"allele_1\", \"allele_2\")\n",
    "        return geno_df"
   ]
  },
  {
   "cell_type": "code",
   "execution_count": null,
   "id": "5d9a8a67-c9b4-477e-9ebf-8d7e3bb43c82",
   "metadata": {},
   "outputs": [],
   "source": [
    "#export \n",
    "parameters = get_parameters()\n",
    "\n",
    "def get_genetic_file_path(chrom):\n",
    "    bgen_path = parameters[\"genetic_file_path_template\"].format(chrom_number=chrom)\n",
    "    sample_path = parameters[\"sample_file_template\"].format(chrom_number=chrom)\n",
    "    return (bgen_path,sample_path)\n",
    "\n",
    "def load_genetic_file(chrom):\n",
    "    bgen_path, sample_path = get_genetic_file_path(chrom)\n",
    "    return BgenFileObject(bgen_reader_obj = open_bgen(filepath=bgen_path, samples_filepath=sample_path))"
   ]
  },
  {
   "cell_type": "code",
   "execution_count": null,
   "id": "87c21cb2-31a3-42be-b6c1-cb180b7c19ed",
   "metadata": {},
   "outputs": [
    {
     "data": {
      "text/plain": [
       "('/lab/corradin_biobank/Raw_UKB_downloads/BGEN/ukb_imp_chr22_v3.bgen',\n",
       " '/lab/corradin_biobank/Raw_UKB_downloads/sample_files/ukb45624_imp_chr21_v3_s487275.sample')"
      ]
     },
     "execution_count": null,
     "metadata": {},
     "output_type": "execute_result"
    }
   ],
   "source": [
    "get_genetic_file_path(22)"
   ]
  },
  {
   "cell_type": "code",
   "execution_count": null,
   "id": "c7c86731-fff7-4c0e-80ce-77d0f2186e0b",
   "metadata": {},
   "outputs": [],
   "source": [
    "test_bgen = load_genetic_file(21)"
   ]
  },
  {
   "cell_type": "code",
   "execution_count": null,
   "id": "0fb11b24-8682-492b-bc53-0e67b982d738",
   "metadata": {},
   "outputs": [
    {
     "data": {
      "text/plain": [
       "memmap(['21:9411239_G_A', '21:9411245_C_A', '21:9411264_A_C', ...,\n",
       "        '21:48119697_T_G', '21:48119700_A_G', '21:48119740_C_G'],\n",
       "       dtype='<U115')"
      ]
     },
     "execution_count": null,
     "metadata": {},
     "output_type": "execute_result"
    }
   ],
   "source": [
    "test_bgen.ids"
   ]
  },
  {
   "cell_type": "code",
   "execution_count": null,
   "id": "c79745b8-6c65-4105-bb30-717d190806eb",
   "metadata": {},
   "outputs": [],
   "source": [
    "assert np.allclose(test_bgen.get_sample_index(['3758348', '5542886', '5229561', '2956972', \n",
    "       '3665101']), [     2,      0, 487407, 487406, 487408]) "
   ]
  },
  {
   "cell_type": "code",
   "execution_count": null,
   "id": "33b5cbf9-42c3-498c-bd1d-489edc5423a9",
   "metadata": {},
   "outputs": [
    {
     "name": "stdout",
     "output_type": "stream",
     "text": [
      "reading -- time=0:00:00.00, thread 1 of 4, part 1 of 1\n"
     ]
    },
    {
     "data": {
      "text/plain": [
       "(2, 4, 3)"
      ]
     },
     "execution_count": null,
     "metadata": {},
     "output_type": "execute_result"
    }
   ],
   "source": [
    "test_bgen.get_probs(['3758348', '5542886'], ['21:48119700_A_G', '21:9411264_A_C', '21:48119740_C_G', '21:48119700_A_G'] ).shape"
   ]
  },
  {
   "cell_type": "code",
   "execution_count": null,
   "id": "45c42a31-2cf1-46c9-a477-113015857511",
   "metadata": {},
   "outputs": [
    {
     "name": "stdout",
     "output_type": "stream",
     "text": [
      "reading -- time=0:00:00.00, thread 1 of 4, part 1 of 1\n"
     ]
    },
    {
     "data": {
      "text/plain": [
       "(2, 4, 4)"
      ]
     },
     "execution_count": null,
     "metadata": {},
     "output_type": "execute_result"
    }
   ],
   "source": [
    "test_bgen.get_geno_each_sample(sample_ids=['3758348', '5542886'], variant_ids=['21:48119700_A_G', '21:9411264_A_C', '21:48119740_C_G', '21:48119700_A_G']).shape"
   ]
  },
  {
   "cell_type": "code",
   "execution_count": null,
   "id": "a67ff505-cebe-486c-ac37-1364494bb9aa",
   "metadata": {},
   "outputs": [],
   "source": [
    "test_sample_ids_with_nan = ['5542886', '5137974', '3758348', '1391800', '3165331', '4411996',\n",
    "       '1905910', '5463886', '4849606', '2346038', '3209686', '1842736',\n",
    "       '1499358', '2936914', '5782640', '2417674', '5425597', '3351400',\n",
    "       '2575593', '5339839', '3428707', '3217292', '2463485', '5110498',\n",
    "       '1032933', '1446487', '5606075', '3439866']\n",
    "test_variants_with_nan = ['21:26215045_C_T']"
   ]
  },
  {
   "cell_type": "code",
   "execution_count": null,
   "id": "16329f70-aeef-4302-8ef0-11400d69bd70",
   "metadata": {},
   "outputs": [
    {
     "name": "stdout",
     "output_type": "stream",
     "text": [
      "reading -- time=0:00:00.00, thread 1 of 1, part 1 of 1\n"
     ]
    },
    {
     "data": {
      "text/plain": [
       "(28, 1, 4)"
      ]
     },
     "execution_count": null,
     "metadata": {},
     "output_type": "execute_result"
    }
   ],
   "source": [
    "test_bgen.get_geno_each_sample(variant_ids = test_variants_with_nan, sample_ids =  test_sample_ids_with_nan).shape"
   ]
  },
  {
   "cell_type": "code",
   "execution_count": null,
   "id": "6a9d239f-03f5-4eb4-be1e-f41d7b178ab7",
   "metadata": {},
   "outputs": [],
   "source": []
  }
 ],
 "metadata": {
  "kernelspec": {
   "display_name": "Python 3",
   "language": "python",
   "name": "python3"
  }
 },
 "nbformat": 4,
 "nbformat_minor": 5
}
