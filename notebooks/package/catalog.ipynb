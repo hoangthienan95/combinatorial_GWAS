{
 "cells": [
  {
   "cell_type": "code",
   "execution_count": null,
   "metadata": {},
   "outputs": [],
   "source": [
    "# default_exp data_catalog"
   ]
  },
  {
   "cell_type": "markdown",
   "metadata": {},
   "source": [
    "## Example using Kedro's DataCatalog to configure and explore data sources"
   ]
  },
  {
   "cell_type": "code",
   "execution_count": null,
   "metadata": {},
   "outputs": [],
   "source": [
    "#export \n",
    "\n",
    "from functools import wraps\n",
    "from contextlib import contextmanager\n",
    "from typing import Union, List\n",
    "from fastcore.meta import delegates\n",
    "\n",
    "@contextmanager\n",
    "def cd(newdir):\n",
    "    prevdir = os.getcwd()\n",
    "    os.chdir(os.path.expanduser(newdir))\n",
    "    try:\n",
    "        yield\n",
    "    finally:\n",
    "        os.chdir(prevdir)\n",
    "\n",
    "def change_cwd_dir(new_dir):\n",
    "    def decorator(func):\n",
    "        @wraps(func)\n",
    "        def wrapped_func(*args, **kwargs):\n",
    "            with cd(new_dir):\n",
    "                func_result = func(*args, **kwargs)\n",
    "            return func_result\n",
    "        return wrapped_func\n",
    "    return decorator\n",
    "        \n",
    "    "
   ]
  },
  {
   "cell_type": "code",
   "execution_count": null,
   "metadata": {},
   "outputs": [],
   "source": [
    "#export\n",
    "\n",
    "import combinatorial_gwas\n",
    "from kedro.config import ConfigLoader, TemplatedConfigLoader\n",
    "from kedro.io import DataCatalog\n",
    "import os\n",
    "from pathlib import Path\n",
    "\n",
    "package_outer_folder = Path(combinatorial_gwas.__file__).parents[1]\n",
    "\n",
    "@change_cwd_dir(new_dir = package_outer_folder)\n",
    "def get_config(env, patterns, globals_pattern=\"globals*.y*ml\"):#(env, patterns):\n",
    "    if not isinstance(env, list):\n",
    "        env = [env]\n",
    "        \n",
    "    # Initialise a ConfigLoader\n",
    "    conf_loader = TemplatedConfigLoader([f\"conf/{single_env}\" for single_env in env], globals_pattern=globals_pattern)\n",
    "\n",
    "    # Load the data catalog configuration from catalog.yml\n",
    "    conf= conf_loader.get(*patterns)\n",
    "    \n",
    "    return conf\n",
    "\n",
    "@change_cwd_dir(new_dir = package_outer_folder)\n",
    "@delegates(get_config)\n",
    "def get_catalog(env: Union[str, List[str]]=[\"base\", \"local\"], patterns=[\"catalog*.yml\", \"catalog*.yaml\", \"catalog*/*.yml\", \"catalog*/*.yaml\"], **kwargs):\n",
    "\n",
    "    conf_catalog = get_config(env, patterns, **kwargs)#env, patterns)\n",
    "    \n",
    "    # Create the DataCatalog instance from the configuration\n",
    "    catalog = DataCatalog.from_config(conf_catalog)\n",
    "    catalog.load = change_cwd_dir(package_outer_folder)(catalog.load)\n",
    "    catalog.env = env\n",
    "    catalog.patterns = patterns\n",
    "    catalog.reload = reload.__get__(catalog)\n",
    "    return catalog\n",
    "\n",
    "@change_cwd_dir(new_dir = package_outer_folder)\n",
    "def get_parameters(env=[\"base\", \"local\"], patterns=[\"param*.yml\", \"param*.yaml\", \"param*/*.yml\", \"param*/*.yaml\"]):\n",
    "    params = get_config(env, patterns)\n",
    "    return params\n",
    "\n",
    "def reload_catalog(catalog):\n",
    "    return get_catalog(catalog.env, catalog.patterns)\n",
    "\n",
    "def reload(self):\n",
    "    return reload_catalog(self)\n",
    "\n",
    "\n",
    "# catalog_all = get_catalog()\n",
    "# parameters_all = get_config(\"base\", [\"parameters*.yml\", \"parameters*/*.yml\"])"
   ]
  },
  {
   "cell_type": "code",
   "execution_count": null,
   "metadata": {},
   "outputs": [
    {
     "data": {
      "text/plain": [
       "{'type': 'pandas.CSVDataSet', 'filepath': 'base/path/iris.csv'}"
      ]
     },
     "execution_count": null,
     "metadata": {},
     "output_type": "execute_result"
    }
   ],
   "source": [
    "get_config(\"base\", patterns=[\"catalog*.yml\", \"catalog*.yaml\", \"catalog*/*.yml\", \"catalog*/*.yaml\"])[\"globals_test\"]"
   ]
  },
  {
   "cell_type": "code",
   "execution_count": null,
   "metadata": {},
   "outputs": [
    {
     "data": {
      "text/plain": [
       "{'type': 'pandas.CSVDataSet', 'filepath': 'base/path/iris.csv'}"
      ]
     },
     "execution_count": null,
     "metadata": {},
     "output_type": "execute_result"
    }
   ],
   "source": [
    "get_config([\"local\", \"base\"], patterns=[\"catalog*.yml\", \"catalog*.yaml\", \"catalog*/*.yml\", \"catalog*/*.yaml\"])[\"globals_test\"]"
   ]
  },
  {
   "cell_type": "code",
   "execution_count": null,
   "metadata": {},
   "outputs": [
    {
     "data": {
      "text/plain": [
       "{'type': 'pandas.CSVDataSet', 'filepath': 'base/path/iris.csv'}"
      ]
     },
     "execution_count": null,
     "metadata": {},
     "output_type": "execute_result"
    }
   ],
   "source": [
    "get_config([\"base\", \"local\"], patterns=[\"catalog*.yml\", \"catalog*.yaml\", \"catalog*/*.yml\", \"catalog*/*.yaml\"])[\"globals_test\"]"
   ]
  },
  {
   "cell_type": "markdown",
   "metadata": {},
   "source": [
    "Congratulations! You have been able to instantiate a DataCatalog and load a dataset with Kedro. To see more examples on how to use the DataCatalog and other supported datasets, please visit our [documentation](https://kedro.readthedocs.io/en/latest/05_data/01_data_catalog.html).\n"
   ]
  }
 ],
 "metadata": {
  "kernelspec": {
   "display_name": "Python 3",
   "language": "python",
   "name": "python3"
  }
 },
 "nbformat": 4,
 "nbformat_minor": 4
}
